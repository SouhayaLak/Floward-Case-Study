{
 "cells": [
  {
   "attachments": {
    "floward%20logo.png": {
     "image/png": "[encoded data removed]"
    }
   },
   "cell_type": "markdown",
   "id": "edd66164",
   "metadata": {},
   "source": [
    "![floward%20logo.png](attachment:floward%20logo.png)"
   ]
  },
  {
   "cell_type": "markdown",
   "id": "10ff16b8",
   "metadata": {},
   "source": [
    "**Souhaya Lakhyari** | 2022-12-06"
   ]
  },
  {
   "cell_type": "markdown",
   "id": "2081321f",
   "metadata": {
    "toc": true
   },
   "source": [
    "<h1>Table of Contents<span class=\"tocSkip\"></span></h1>\n",
    "<div class=\"toc\"><ul class=\"toc-item\"><li><span><a href=\"#-I---Requirements-gathering\" data-toc-modified-id=\"-I---Requirements-gathering-1\"><font color=\"green\"> I - Requirements gathering</font></a></span><ul class=\"toc-item\"><li><span><a href=\"#1.-Problem-Statement\" data-toc-modified-id=\"1.-Problem-Statement-1.1\"><font color=\"brown\">1. Problem Statement</font></a></span></li><li><span><a href=\"#-2.-Scope\" data-toc-modified-id=\"-2.-Scope-1.2\"><font color=\"brown\"> 2. Scope</font></a></span></li></ul></li><li><span><a href=\"#II--Data-Extraction\" data-toc-modified-id=\"II--Data-Extraction-2\"><font color=\"green\">II- Data Extraction</font></a></span></li><li><span><a href=\"#III---Exploratory-Data-Analysis\" data-toc-modified-id=\"III---Exploratory-Data-Analysis-3\"><font color=\"green\">III - Exploratory Data Analysis</font></a></span><ul class=\"toc-item\"><li><span><a href=\"#1.-Exploration-of-the-data-sources\" data-toc-modified-id=\"1.-Exploration-of-the-data-sources-3.1\"><font color=\"brown\">1. Exploration of the data sources</font></a></span><ul class=\"toc-item\"><li><span><a href=\"#1.1-The-orders-dataset-exploration\" data-toc-modified-id=\"1.1-The-orders-dataset-exploration-3.1.1\"><font color=\"purple\">1.1 The orders dataset exploration</font></a></span></li><li><span><a href=\"#1.2-The-restaurants-dataset-exploration\" data-toc-modified-id=\"1.2-The-restaurants-dataset-exploration-3.1.2\"><font color=\"purple\">1.2 The restaurants dataset exploration</font></a></span></li></ul></li><li><span><a href=\"#2.-Merging-the-data-&amp;-exploring-the-output\" data-toc-modified-id=\"2.-Merging-the-data-&amp;-exploring-the-output-3.2\"><font color=\"brown\">2. Merging the data &amp; exploring the output</font></a></span><ul class=\"toc-item\"><li><span><a href=\"#1.1-Qualitative-columns-exploration-(dimensions)\" data-toc-modified-id=\"1.1-Qualitative-columns-exploration-(dimensions)-3.2.1\"><font color=\"purple\">1.1 Qualitative columns exploration (dimensions)</font></a></span><ul class=\"toc-item\"><li><span><a href=\"#1.1.1-order_acknowledged_at\" data-toc-modified-id=\"1.1.1-order_acknowledged_at-3.2.1.1\">1.1.1 order_acknowledged_at</a></span></li><li><span><a href=\"#1.1.2-order_ready_at\" data-toc-modified-id=\"1.1.2-order_ready_at-3.2.1.2\">1.1.2 order_ready_at</a></span></li><li><span><a href=\"#1.1.3-Restaurant-(restaurant_id)\" data-toc-modified-id=\"1.1.3-Restaurant-(restaurant_id)-3.2.1.3\">1.1.3 Restaurant (restaurant_id)</a></span></li><li><span><a href=\"#1.1.6-Country\" data-toc-modified-id=\"1.1.6-Country-3.2.1.4\">1.1.6 Country</a></span></li><li><span><a href=\"#1.1.5-City\" data-toc-modified-id=\"1.1.5-City-3.2.1.5\">1.1.5 City</a></span></li><li><span><a href=\"#1.1.6--Type_of_food\" data-toc-modified-id=\"1.1.6--Type_of_food-3.2.1.6\">1.1.6  Type_of_food</a></span></li></ul></li><li><span><a href=\"#1.2-Quantitative-columns-exploration-(facts)\" data-toc-modified-id=\"1.2-Quantitative-columns-exploration-(facts)-3.2.2\"><font color=\"purple\">1.2 Quantitative columns exploration (facts)</font></a></span><ul class=\"toc-item\"><li><span><a href=\"#1.2.2-Order-preparation-time-(prep_time_seconds)\" data-toc-modified-id=\"1.2.2-Order-preparation-time-(prep_time_seconds)-3.2.2.1\">1.2.2 Order preparation time (prep_time_seconds)</a></span></li><li><span><a href=\"#1.2.2-Order-value-(order_value_gbp)\" data-toc-modified-id=\"1.2.2-Order-value-(order_value_gbp)-3.2.2.2\">1.2.2 Order value (order_value_gbp)</a></span></li><li><span><a href=\"#1.2.3-Number-of-items-ordered-(number_of_items)\" data-toc-modified-id=\"1.2.3-Number-of-items-ordered-(number_of_items)-3.2.2.3\">1.2.3 Number of items ordered (number_of_items)</a></span></li></ul></li></ul></li></ul></li><li><span><a href=\"#III---Explanatory-Data-Analysis\" data-toc-modified-id=\"III---Explanatory-Data-Analysis-4\"><font color=\"green\">III - Explanatory Data Analysis</font></a></span><ul class=\"toc-item\"><li><span><a href=\"#1.-Is-there-a-particular-day-of-the-week-that-receives-the-most-orders?\" data-toc-modified-id=\"1.-Is-there-a-particular-day-of-the-week-that-receives-the-most-orders?-4.1\"><font color=\"brown\">1. Is there a particular day of the week that receives the most orders?</font></a></span></li><li><span><a href=\"#2.-What-type-of-food-is-most-frequently-ordered?\" data-toc-modified-id=\"2.-What-type-of-food-is-most-frequently-ordered?-4.2\"><font color=\"brown\">2. What type of food is most frequently ordered?</font></a></span></li><li><span><a href=\"#3.-Location-analysis-(location-(country-and-city)-with-the-most-orders?)\" data-toc-modified-id=\"3.-Location-analysis-(location-(country-and-city)-with-the-most-orders?)-4.3\"><font color=\"brown\">3. Location analysis (location (country and city) with the most orders?)</font></a></span></li><li><span><a href=\"#4.-Are-there-any-other-obvious-correlations-in-our-dataframe?\" data-toc-modified-id=\"4.-Are-there-any-other-obvious-correlations-in-our-dataframe?-4.4\"><font color=\"brown\">4. Are there any other obvious correlations in our dataframe?</font></a></span></li></ul></li><li><span><a href=\"#IV---The-Order-Preparation-Time-Prediction\" data-toc-modified-id=\"IV---The-Order-Preparation-Time-Prediction-5\"><font color=\"green\">IV - The Order Preparation Time Prediction</font></a></span><ul class=\"toc-item\"><li><span><a href=\"#1.-Outliers-detection\" data-toc-modified-id=\"1.-Outliers-detection-5.1\"><font color=\"brown\">1. Outliers detection</font></a></span></li><li><span><a href=\"#2.-Choice-of-independant-variables\" data-toc-modified-id=\"2.-Choice-of-independant-variables-5.2\"><font color=\"brown\">2. Choice of independant variables</font></a></span></li><li><span><a href=\"#3.-Choice-of-the-ML-model\" data-toc-modified-id=\"3.-Choice-of-the-ML-model-5.3\"><font color=\"brown\">3. Choice of the ML model</font></a></span></li><li><span><a href=\"#4.-Implementation\" data-toc-modified-id=\"4.-Implementation-5.4\"><font color=\"brown\">4. Implementation</font></a></span><ul class=\"toc-item\"><li><span><a href=\"#4.1-Random-Forest\" data-toc-modified-id=\"4.1-Random-Forest-5.4.1\"><font color=\"purple\">4.1 Random Forest</font></a></span></li><li><span><a href=\"#4.2-Quantile-Regession\" data-toc-modified-id=\"4.2-Quantile-Regession-5.4.2\"><font color=\"purple\">4.2 Quantile Regession</font></a></span></li><li><span><a href=\"#4.3-Summary\" data-toc-modified-id=\"4.3-Summary-5.4.3\"><font color=\"purple\">4.3 Summary</font></a></span></li></ul></li></ul></li><li><span><a href=\"#V-Next-Steps\" data-toc-modified-id=\"V-Next-Steps-6\"><font color=\"green\">V-Next Steps</font></a></span></li><li><span><a href=\"#VI---References\" data-toc-modified-id=\"VI---References-7\"><font color=\"green\">VI - References</font></a></span></li></ul></div>"
   ]
  },
  {
   "cell_type": "markdown",
   "id": "be73097c",
   "metadata": {},
   "source": [
    "# <font color='green'> I - Requirements gathering</font>\n"
   ]
  },
  {
   "cell_type": "markdown",
   "id": "b9773759",
   "metadata": {},
   "source": [
    "\n",
    "## <font color='brown'>1. Problem Statement\n",
    "A food delivery company is committed to providing a delivery experience that delights their customers while still being incredibly efficient. Thus it is critical that they have the best possible model of how long it takes for a food order to be prepared. This allows them to ensure that a rider arrives at a restaurant to pick up an order exactly when the food is ready.\n",
    "\n",
    "The aim of this exercise is to use historical data, clean it, manipulate it to extract insights, then finally predict the food preparation time for each order.\n",
    "\n",
    "## <font color='brown'> 2. Scope\n",
    "- Timeline: from 2015-06-01 to 2015-07-01.\n",
    "- Data sources available: 2 csv files (orders.csv and restaurants.csv).\n",
    "- Expected output: building a model that estimates the time it takes for a restaurant to prepare the food for an order.\n",
    "\n",
    "\n"
   ]
  },
  {
   "cell_type": "markdown",
   "id": "c593bc2a",
   "metadata": {},
   "source": [
    "# <font color='green'>II- Data Extraction</font>"
   ]
  },
  {
   "cell_type": "code",
   "execution_count": 197,
   "id": "3c6d01ef",
   "metadata": {},
   "outputs": [],
   "source": [
    "## Importing the relevant libraries\n",
    "\n",
    "import pandas as pd\n",
    "import numpy as np\n",
    "import seaborn as sns\n",
    "import matplotlib.pyplot as plt\n",
    "from matplotlib.ticker import PercentFormatter\n",
    "\n",
    "# Enabling Jupyter to display graphs\n",
    "%matplotlib inline"
   ]
  },
  {
   "cell_type": "markdown",
   "id": "4d8799d7",
   "metadata": {},
   "source": [
    "- As mentioned previously, this study will make use of two datasets (orders.csv and restaurants.csv)."
   ]
  },
  {
   "cell_type": "code",
   "execution_count": 198,
   "id": "8a6cbc5c",
   "metadata": {},
   "outputs": [],
   "source": [
    "#Loading the orders dataset\n",
    "ords = pd.read_csv('orders.csv')\n",
    "\n",
    "#Loading the restaurants dataset\n",
    "rests = pd.read_csv('restaurants.csv')"
   ]
  },
  {
   "cell_type": "markdown",
   "id": "e1414377",
   "metadata": {},
   "source": [
    "# <font color='green'>III - Exploratory Data Analysis</font>\n",
    "\n",
    "**In this first section of the analysis, we will be focusing on exploring the available data sources and performing any necessary transformations to ensure data accuracy and reliability.**"
   ]
  },
  {
   "cell_type": "markdown",
   "id": "ca6f9062",
   "metadata": {},
   "source": [
    "## <font color='brown'>1. Exploration of the data sources\n",
    "\n",
    "-  In order to begin the exploration, we must first determine the size of the datasets and the type of columns, as well as identify the null or missing values in the datasets.\n",
    "\n",
    "-  Two datasets will be examined (orders.csv and restaurant.csv)."
   ]
  },
  {
   "cell_type": "markdown",
   "id": "7c2290cb",
   "metadata": {},
   "source": [
    "###  <font color='purple'>1.1 The orders dataset exploration</font>"
   ]
  },
  {
   "cell_type": "code",
   "execution_count": 199,
   "id": "6a2707d9",
   "metadata": {},
   "outputs": [
    {
     "name": "stdout",
     "output_type": "stream",
     "text": [
      "Dataset size and datatypes\n",
      "\n",
      "\n",
      "<class 'pandas.core.frame.DataFrame'>\n",
      "RangeIndex: 32394 entries, 0 to 32393\n",
      "Data columns (total 6 columns):\n",
      " #   Column                 Non-Null Count  Dtype  \n",
      "---  ------                 --------------  -----  \n",
      " 0   order_acknowledged_at  32394 non-null  object \n",
      " 1   order_ready_at         32394 non-null  object \n",
      " 2   order_value_gbp        32394 non-null  float64\n",
      " 3   restaurant_id          32394 non-null  int64  \n",
      " 4   number_of_items        32394 non-null  int64  \n",
      " 5   prep_time_seconds      32394 non-null  int64  \n",
      "dtypes: float64(1), int64(3), object(2)\n",
      "memory usage: 1.5+ MB\n",
      "\n",
      "\n",
      "Checking the null values, if any\n",
      "\n",
      "\n",
      "order_acknowledged_at    0\n",
      "order_ready_at           0\n",
      "order_value_gbp          0\n",
      "restaurant_id            0\n",
      "number_of_items          0\n",
      "prep_time_seconds        0\n",
      "dtype: int64\n",
      "\n",
      "\n",
      "Dataset head\n",
      "\n",
      "\n"
     ]
    },
    {
     "data": {
      "text/html": [
       "<div>\n",
       "<style scoped>\n",
       "    .dataframe tbody tr th:only-of-type {\n",
       "        vertical-align: middle;\n",
       "    }\n",
       "\n",
       "    .dataframe tbody tr th {\n",
       "        vertical-align: top;\n",
       "    }\n",
       "\n",
       "    .dataframe thead th {\n",
       "        text-align: right;\n",
       "    }\n",
       "</style>\n",
       "<table border=\"1\" class=\"dataframe\">\n",
       "  <thead>\n",
       "    <tr style=\"text-align: right;\">\n",
       "      <th></th>\n",
       "      <th>order_acknowledged_at</th>\n",
       "      <th>order_ready_at</th>\n",
       "      <th>order_value_gbp</th>\n",
       "      <th>restaurant_id</th>\n",
       "      <th>number_of_items</th>\n",
       "      <th>prep_time_seconds</th>\n",
       "    </tr>\n",
       "  </thead>\n",
       "  <tbody>\n",
       "    <tr>\n",
       "      <th>0</th>\n",
       "      <td>2015-06-01 12:28:28.952789+01:00</td>\n",
       "      <td>2015-06-01 14:12:09.474896+01:00</td>\n",
       "      <td>59.90</td>\n",
       "      <td>1326</td>\n",
       "      <td>2</td>\n",
       "      <td>6220</td>\n",
       "    </tr>\n",
       "    <tr>\n",
       "      <th>1</th>\n",
       "      <td>2015-06-06 17:06:24.434807+01:00</td>\n",
       "      <td>2015-06-06 17:16:27.520253+01:00</td>\n",
       "      <td>24.00</td>\n",
       "      <td>1326</td>\n",
       "      <td>8</td>\n",
       "      <td>603</td>\n",
       "    </tr>\n",
       "    <tr>\n",
       "      <th>2</th>\n",
       "      <td>2015-06-08 14:56:15.503204+01:00</td>\n",
       "      <td>2015-06-08 15:03:39.397496+01:00</td>\n",
       "      <td>15.25</td>\n",
       "      <td>1326</td>\n",
       "      <td>3</td>\n",
       "      <td>443</td>\n",
       "    </tr>\n",
       "    <tr>\n",
       "      <th>3</th>\n",
       "      <td>2015-06-12 15:12:20.497925+01:00</td>\n",
       "      <td>2015-06-12 15:23:30.064683+01:00</td>\n",
       "      <td>28.05</td>\n",
       "      <td>1326</td>\n",
       "      <td>8</td>\n",
       "      <td>669</td>\n",
       "    </tr>\n",
       "    <tr>\n",
       "      <th>4</th>\n",
       "      <td>2015-06-01 13:07:10.794050+01:00</td>\n",
       "      <td>2015-06-01 14:02:25.104517+01:00</td>\n",
       "      <td>56.30</td>\n",
       "      <td>255</td>\n",
       "      <td>7</td>\n",
       "      <td>3314</td>\n",
       "    </tr>\n",
       "  </tbody>\n",
       "</table>\n",
       "</div>"
      ],
      "text/plain": [
       "              order_acknowledged_at                    order_ready_at  \\\n",
       "0  2015-06-01 12:28:28.952789+01:00  2015-06-01 14:12:09.474896+01:00   \n",
       "1  2015-06-06 17:06:24.434807+01:00  2015-06-06 17:16:27.520253+01:00   \n",
       "2  2015-06-08 14:56:15.503204+01:00  2015-06-08 15:03:39.397496+01:00   \n",
       "3  2015-06-12 15:12:20.497925+01:00  2015-06-12 15:23:30.064683+01:00   \n",
       "4  2015-06-01 13:07:10.794050+01:00  2015-06-01 14:02:25.104517+01:00   \n",
       "\n",
       "   order_value_gbp  restaurant_id  number_of_items  prep_time_seconds  \n",
       "0            59.90           1326                2               6220  \n",
       "1            24.00           1326                8                603  \n",
       "2            15.25           1326                3                443  \n",
       "3            28.05           1326                8                669  \n",
       "4            56.30            255                7               3314  "
      ]
     },
     "execution_count": 199,
     "metadata": {},
     "output_type": "execute_result"
    }
   ],
   "source": [
    "#Exploring the dataset (size, data types..)\n",
    "print('Dataset size and datatypes')\n",
    "print('\\n')\n",
    "ords.info()\n",
    "print('\\n')\n",
    "\n",
    "#checking null values\n",
    "print('Checking the null values, if any')\n",
    "print('\\n')\n",
    "print(ords.isnull().sum())\n",
    "\n",
    "#dataset content\n",
    "print('\\n')\n",
    "print('Dataset head')\n",
    "print('\\n')\n",
    "ords.head()"
   ]
  },
  {
   "cell_type": "markdown",
   "id": "a238174b",
   "metadata": {},
   "source": [
    "**- The orders dataset contains 6 columns and 32394 rows. There are no null values.**"
   ]
  },
  {
   "cell_type": "markdown",
   "id": "10bb2c2a",
   "metadata": {},
   "source": [
    "###  <font color='purple'>1.2 The restaurants dataset exploration</font>"
   ]
  },
  {
   "cell_type": "code",
   "execution_count": 200,
   "id": "e35364b9",
   "metadata": {},
   "outputs": [
    {
     "name": "stdout",
     "output_type": "stream",
     "text": [
      "Dataset size and datatypes\n",
      "\n",
      "\n",
      "<class 'pandas.core.frame.DataFrame'>\n",
      "RangeIndex: 1697 entries, 0 to 1696\n",
      "Data columns (total 4 columns):\n",
      " #   Column         Non-Null Count  Dtype \n",
      "---  ------         --------------  ----- \n",
      " 0   restaurant_id  1697 non-null   int64 \n",
      " 1   country        1697 non-null   object\n",
      " 2   city           1697 non-null   object\n",
      " 3   type_of_food   1697 non-null   object\n",
      "dtypes: int64(1), object(3)\n",
      "memory usage: 53.2+ KB\n",
      "\n",
      "\n",
      "Checking the null values, if any\n",
      "\n",
      "\n",
      "restaurant_id    0\n",
      "country          0\n",
      "city             0\n",
      "type_of_food     0\n",
      "dtype: int64\n",
      "\n",
      "\n",
      "Dataset head\n",
      "\n",
      "\n"
     ]
    },
    {
     "data": {
      "text/html": [
       "<div>\n",
       "<style scoped>\n",
       "    .dataframe tbody tr th:only-of-type {\n",
       "        vertical-align: middle;\n",
       "    }\n",
       "\n",
       "    .dataframe tbody tr th {\n",
       "        vertical-align: top;\n",
       "    }\n",
       "\n",
       "    .dataframe thead th {\n",
       "        text-align: right;\n",
       "    }\n",
       "</style>\n",
       "<table border=\"1\" class=\"dataframe\">\n",
       "  <thead>\n",
       "    <tr style=\"text-align: right;\">\n",
       "      <th></th>\n",
       "      <th>restaurant_id</th>\n",
       "      <th>country</th>\n",
       "      <th>city</th>\n",
       "      <th>type_of_food</th>\n",
       "    </tr>\n",
       "  </thead>\n",
       "  <tbody>\n",
       "    <tr>\n",
       "      <th>0</th>\n",
       "      <td>3</td>\n",
       "      <td>UK</td>\n",
       "      <td>London</td>\n",
       "      <td>thai</td>\n",
       "    </tr>\n",
       "    <tr>\n",
       "      <th>1</th>\n",
       "      <td>5</td>\n",
       "      <td>UK</td>\n",
       "      <td>London</td>\n",
       "      <td>italian</td>\n",
       "    </tr>\n",
       "    <tr>\n",
       "      <th>2</th>\n",
       "      <td>7</td>\n",
       "      <td>UK</td>\n",
       "      <td>London</td>\n",
       "      <td>italian</td>\n",
       "    </tr>\n",
       "    <tr>\n",
       "      <th>3</th>\n",
       "      <td>8</td>\n",
       "      <td>UK</td>\n",
       "      <td>London</td>\n",
       "      <td>chinese</td>\n",
       "    </tr>\n",
       "    <tr>\n",
       "      <th>4</th>\n",
       "      <td>9</td>\n",
       "      <td>France</td>\n",
       "      <td>Paris</td>\n",
       "      <td>korean</td>\n",
       "    </tr>\n",
       "  </tbody>\n",
       "</table>\n",
       "</div>"
      ],
      "text/plain": [
       "   restaurant_id country    city type_of_food\n",
       "0              3      UK  London         thai\n",
       "1              5      UK  London      italian\n",
       "2              7      UK  London      italian\n",
       "3              8      UK  London      chinese\n",
       "4              9  France   Paris       korean"
      ]
     },
     "execution_count": 200,
     "metadata": {},
     "output_type": "execute_result"
    }
   ],
   "source": [
    "#Exploring the dataset (size, data types..)\n",
    "print('Dataset size and datatypes')\n",
    "print('\\n')\n",
    "rests.info()\n",
    "print('\\n')\n",
    "\n",
    "#checking null values\n",
    "print('Checking the null values, if any')\n",
    "print('\\n')\n",
    "print(rests.isnull().sum())\n",
    "\n",
    "#dataset content\n",
    "print('\\n')\n",
    "print('Dataset head')\n",
    "print('\\n')\n",
    "rests.head()"
   ]
  },
  {
   "cell_type": "markdown",
   "id": "eaa74743",
   "metadata": {},
   "source": [
    "**- The restaurants dataset contains 4 columns and 1697 rows. There are no null values.**"
   ]
  },
  {
   "cell_type": "markdown",
   "id": "7f116b75",
   "metadata": {},
   "source": [
    "## <font color='brown'>2. Merging the data & exploring the output\n",
    "\n",
    "- This section involves merging both datasets into a single data frame. For the remainder of the analysis, the same data frame will be used."
   ]
  },
  {
   "cell_type": "code",
   "execution_count": 201,
   "id": "5f92fe76",
   "metadata": {
    "scrolled": true
   },
   "outputs": [
    {
     "data": {
      "text/html": [
       "<div>\n",
       "<style scoped>\n",
       "    .dataframe tbody tr th:only-of-type {\n",
       "        vertical-align: middle;\n",
       "    }\n",
       "\n",
       "    .dataframe tbody tr th {\n",
       "        vertical-align: top;\n",
       "    }\n",
       "\n",
       "    .dataframe thead th {\n",
       "        text-align: right;\n",
       "    }\n",
       "</style>\n",
       "<table border=\"1\" class=\"dataframe\">\n",
       "  <thead>\n",
       "    <tr style=\"text-align: right;\">\n",
       "      <th></th>\n",
       "      <th>order_acknowledged_at</th>\n",
       "      <th>order_ready_at</th>\n",
       "      <th>order_value_gbp</th>\n",
       "      <th>restaurant_id</th>\n",
       "      <th>number_of_items</th>\n",
       "      <th>prep_time_seconds</th>\n",
       "      <th>country</th>\n",
       "      <th>city</th>\n",
       "      <th>type_of_food</th>\n",
       "    </tr>\n",
       "  </thead>\n",
       "  <tbody>\n",
       "    <tr>\n",
       "      <th>0</th>\n",
       "      <td>2015-06-01 12:28:28.952789+01:00</td>\n",
       "      <td>2015-06-01 14:12:09.474896+01:00</td>\n",
       "      <td>59.90</td>\n",
       "      <td>1326</td>\n",
       "      <td>2</td>\n",
       "      <td>6220</td>\n",
       "      <td>UK</td>\n",
       "      <td>London</td>\n",
       "      <td>burritos</td>\n",
       "    </tr>\n",
       "    <tr>\n",
       "      <th>1</th>\n",
       "      <td>2015-06-06 17:06:24.434807+01:00</td>\n",
       "      <td>2015-06-06 17:16:27.520253+01:00</td>\n",
       "      <td>24.00</td>\n",
       "      <td>1326</td>\n",
       "      <td>8</td>\n",
       "      <td>603</td>\n",
       "      <td>UK</td>\n",
       "      <td>London</td>\n",
       "      <td>burritos</td>\n",
       "    </tr>\n",
       "    <tr>\n",
       "      <th>2</th>\n",
       "      <td>2015-06-08 14:56:15.503204+01:00</td>\n",
       "      <td>2015-06-08 15:03:39.397496+01:00</td>\n",
       "      <td>15.25</td>\n",
       "      <td>1326</td>\n",
       "      <td>3</td>\n",
       "      <td>443</td>\n",
       "      <td>UK</td>\n",
       "      <td>London</td>\n",
       "      <td>burritos</td>\n",
       "    </tr>\n",
       "    <tr>\n",
       "      <th>3</th>\n",
       "      <td>2015-06-12 15:12:20.497925+01:00</td>\n",
       "      <td>2015-06-12 15:23:30.064683+01:00</td>\n",
       "      <td>28.05</td>\n",
       "      <td>1326</td>\n",
       "      <td>8</td>\n",
       "      <td>669</td>\n",
       "      <td>UK</td>\n",
       "      <td>London</td>\n",
       "      <td>burritos</td>\n",
       "    </tr>\n",
       "    <tr>\n",
       "      <th>4</th>\n",
       "      <td>2015-06-01 13:07:10.794050+01:00</td>\n",
       "      <td>2015-06-01 14:02:25.104517+01:00</td>\n",
       "      <td>56.30</td>\n",
       "      <td>255</td>\n",
       "      <td>7</td>\n",
       "      <td>3314</td>\n",
       "      <td>UK</td>\n",
       "      <td>London</td>\n",
       "      <td>chinese</td>\n",
       "    </tr>\n",
       "  </tbody>\n",
       "</table>\n",
       "</div>"
      ],
      "text/plain": [
       "              order_acknowledged_at                    order_ready_at  \\\n",
       "0  2015-06-01 12:28:28.952789+01:00  2015-06-01 14:12:09.474896+01:00   \n",
       "1  2015-06-06 17:06:24.434807+01:00  2015-06-06 17:16:27.520253+01:00   \n",
       "2  2015-06-08 14:56:15.503204+01:00  2015-06-08 15:03:39.397496+01:00   \n",
       "3  2015-06-12 15:12:20.497925+01:00  2015-06-12 15:23:30.064683+01:00   \n",
       "4  2015-06-01 13:07:10.794050+01:00  2015-06-01 14:02:25.104517+01:00   \n",
       "\n",
       "   order_value_gbp  restaurant_id  number_of_items  prep_time_seconds country  \\\n",
       "0            59.90           1326                2               6220      UK   \n",
       "1            24.00           1326                8                603      UK   \n",
       "2            15.25           1326                3                443      UK   \n",
       "3            28.05           1326                8                669      UK   \n",
       "4            56.30            255                7               3314      UK   \n",
       "\n",
       "     city type_of_food  \n",
       "0  London     burritos  \n",
       "1  London     burritos  \n",
       "2  London     burritos  \n",
       "3  London     burritos  \n",
       "4  London      chinese  "
      ]
     },
     "execution_count": 201,
     "metadata": {},
     "output_type": "execute_result"
    }
   ],
   "source": [
    "df = pd.merge(ords, rests, how='left', on='restaurant_id')\n",
    "#print(df.isnull().sum())\n",
    "df.head()"
   ]
  },
  {
   "cell_type": "markdown",
   "id": "4a571d56",
   "metadata": {},
   "source": [
    "### <font color='purple'>1.1 Qualitative columns exploration (dimensions)"
   ]
  },
  {
   "cell_type": "markdown",
   "id": "fafb4bfc",
   "metadata": {},
   "source": [
    "###### The purpose of this section is to examine and explore the qualitative columns that are available in the df. These columns include:\n",
    "- order_acknowledged_at\n",
    "- order_ready_at\n",
    "- restaurant_id\n",
    "- country\n",
    "- city\n",
    "- type_of_food\n"
   ]
  },
  {
   "cell_type": "markdown",
   "id": "9bdef686",
   "metadata": {},
   "source": [
    "#### 1.1.1 order_acknowledged_at\n",
    "\n",
    "- This column is a String (timestamp) | Timestamp (local timezone) indicating when the order is acknowledged by the restaurant. "
   ]
  },
  {
   "cell_type": "code",
   "execution_count": 202,
   "id": "7c81862b",
   "metadata": {},
   "outputs": [],
   "source": [
    "#Changing the data type to a datetime to make the transformations easier\n",
    "df['order_acknowledged_at'] = pd.to_datetime(df['order_acknowledged_at'],utc=True)"
   ]
  },
  {
   "cell_type": "markdown",
   "id": "0b22d502",
   "metadata": {},
   "source": [
    "**Getting the range (min and max) of the period considered**"
   ]
  },
  {
   "cell_type": "code",
   "execution_count": 203,
   "id": "bf9df9ee",
   "metadata": {},
   "outputs": [
    {
     "data": {
      "text/plain": [
       "Timestamp('2015-06-01 09:34:00.351812+0000', tz='UTC')"
      ]
     },
     "execution_count": 203,
     "metadata": {},
     "output_type": "execute_result"
    }
   ],
   "source": [
    "df['order_acknowledged_at'].min()"
   ]
  },
  {
   "cell_type": "markdown",
   "id": "1e6c8e39",
   "metadata": {},
   "source": [
    "- The first order acknowledged by a restaurant was on **2015-06-01** at **09:34:00** (within the period defined)."
   ]
  },
  {
   "cell_type": "code",
   "execution_count": 204,
   "id": "d246708d",
   "metadata": {},
   "outputs": [
    {
     "data": {
      "text/plain": [
       "Timestamp('2015-07-01 13:10:34.915211+0000', tz='UTC')"
      ]
     },
     "execution_count": 204,
     "metadata": {},
     "output_type": "execute_result"
    }
   ],
   "source": [
    "df['order_acknowledged_at'].max()"
   ]
  },
  {
   "cell_type": "markdown",
   "id": "3b3a97a9",
   "metadata": {},
   "source": [
    "- The last order acknowledged by a restaurant was on **2015-07-01** at **13:10:34** (within the period defined)."
   ]
  },
  {
   "cell_type": "markdown",
   "id": "e079999e",
   "metadata": {},
   "source": [
    "**Getting the number of days within the period considered**"
   ]
  },
  {
   "cell_type": "code",
   "execution_count": 205,
   "id": "890be293",
   "metadata": {
    "scrolled": true
   },
   "outputs": [
    {
     "data": {
      "text/plain": [
       "31"
      ]
     },
     "execution_count": 205,
     "metadata": {},
     "output_type": "execute_result"
    }
   ],
   "source": [
    "df['order_acknowledged_at'].apply(lambda x: x.date()).nunique()"
   ]
  },
  {
   "cell_type": "markdown",
   "id": "4c66edfb",
   "metadata": {},
   "source": [
    "- 31 days are considered in this period."
   ]
  },
  {
   "cell_type": "markdown",
   "id": "2b8050bd",
   "metadata": {},
   "source": [
    "#### 1.1.2 order_ready_at\n",
    "\n",
    "- This column is a String (timestamp) | Timestamp (local timezone) indicating when the the food is ready."
   ]
  },
  {
   "cell_type": "code",
   "execution_count": 206,
   "id": "a0c71414",
   "metadata": {},
   "outputs": [],
   "source": [
    "#Changing the data type to a datetime to make the transformation easier\n",
    "df['order_ready_at'] = pd.to_datetime(df['order_ready_at'], utc=True)"
   ]
  },
  {
   "cell_type": "markdown",
   "id": "a37ca657",
   "metadata": {},
   "source": [
    "<font color='brown'>Due to the similarities between this column and **order_acknowledged_at**, its exploration has been hidden."
   ]
  },
  {
   "cell_type": "markdown",
   "id": "73cdd6bc",
   "metadata": {},
   "source": [
    "#### 1.1.3 Restaurant (restaurant_id)\n",
    "- This column is an Int, and is the unique identifier of a restaurant."
   ]
  },
  {
   "cell_type": "code",
   "execution_count": 207,
   "id": "56fe9848",
   "metadata": {},
   "outputs": [
    {
     "data": {
      "text/plain": [
       "1697"
      ]
     },
     "execution_count": 207,
     "metadata": {},
     "output_type": "execute_result"
    }
   ],
   "source": [
    "#Number of unique restaurants\n",
    "df['restaurant_id'].nunique()"
   ]
  },
  {
   "cell_type": "markdown",
   "id": "640c9e36",
   "metadata": {},
   "source": [
    "**There are 1697 unique restaurants**"
   ]
  },
  {
   "cell_type": "markdown",
   "id": "6569ce34",
   "metadata": {},
   "source": [
    "#### 1.1.6 Country\n",
    "- This column is a String, and represents the country where the restaurant is located."
   ]
  },
  {
   "cell_type": "code",
   "execution_count": 208,
   "id": "343ae22e",
   "metadata": {},
   "outputs": [
    {
     "data": {
      "text/plain": [
       "UK         0.92\n",
       "France     0.06\n",
       "Ireland    0.01\n",
       "Germany    0.01\n",
       "Name: country, dtype: float64"
      ]
     },
     "execution_count": 208,
     "metadata": {},
     "output_type": "execute_result"
    }
   ],
   "source": [
    "#Number of unique countries in the df\n",
    "round(df['country'].value_counts(normalize=True),2)"
   ]
  },
  {
   "cell_type": "markdown",
   "id": "1f145554",
   "metadata": {},
   "source": [
    "**The company operates in 4 different countries (UK, France, Ireland, Germany).**\n",
    "\n",
    "**We can already tell that most of the orders (92%) are made from the UK <font color='brown'> (More on that later)**"
   ]
  },
  {
   "cell_type": "markdown",
   "id": "2285cb8c",
   "metadata": {},
   "source": [
    "#### 1.1.5 City\n",
    "- This column is a String, and represents the city where the restaurant is located."
   ]
  },
  {
   "cell_type": "code",
   "execution_count": 209,
   "id": "dbc6dd42",
   "metadata": {},
   "outputs": [
    {
     "data": {
      "text/plain": [
       "22"
      ]
     },
     "execution_count": 209,
     "metadata": {},
     "output_type": "execute_result"
    }
   ],
   "source": [
    "#Number of unique cities in the df\n",
    "df['city'].nunique()"
   ]
  },
  {
   "cell_type": "markdown",
   "id": "297ab447",
   "metadata": {},
   "source": [
    "**The company operates in 22 different cities across the UK, France, Ireland and Germany.**"
   ]
  },
  {
   "cell_type": "markdown",
   "id": "8e9309ec",
   "metadata": {},
   "source": [
    "#### 1.1.6  Type_of_food\n",
    "- This column is a String, and represents the type of food prepared by the restaurant."
   ]
  },
  {
   "cell_type": "code",
   "execution_count": 210,
   "id": "1628c799",
   "metadata": {},
   "outputs": [
    {
     "data": {
      "text/plain": [
       "83"
      ]
     },
     "execution_count": 210,
     "metadata": {},
     "output_type": "execute_result"
    }
   ],
   "source": [
    "#Number of unique food types in the df\n",
    "df['type_of_food'].nunique()"
   ]
  },
  {
   "cell_type": "markdown",
   "id": "d0f13872",
   "metadata": {},
   "source": [
    "**There are 83 types of food suggested across all restaurants.**"
   ]
  },
  {
   "cell_type": "markdown",
   "id": "9ca3430f",
   "metadata": {},
   "source": [
    "### <font color='purple'>1.2 Quantitative columns exploration (facts)"
   ]
  },
  {
   "cell_type": "markdown",
   "id": "745642ac",
   "metadata": {},
   "source": [
    "###### The purpose of this section is to examine and explore the quantitative columns that are available in the df. These columns include:\n",
    "- prep_times_seconds\n",
    "- order_value_gbp\n",
    "- number_of_items\n"
   ]
  },
  {
   "cell_type": "markdown",
   "id": "b92ea94e",
   "metadata": {},
   "source": [
    "#### 1.2.2 Order preparation time (prep_time_seconds)\n",
    "- This column is an INT and it represents (order_ready_at - order_acknowledged_at) in seconds. This is the food preparation time and what you should model."
   ]
  },
  {
   "cell_type": "code",
   "execution_count": 211,
   "id": "abfd605d",
   "metadata": {},
   "outputs": [
    {
     "data": {
      "text/plain": [
       "count     32394.000000\n",
       "mean       1299.993857\n",
       "std        4404.573191\n",
       "min           0.000000\n",
       "25%         518.000000\n",
       "50%         820.000000\n",
       "75%        1227.000000\n",
       "max      255499.000000\n",
       "Name: prep_time_seconds, dtype: float64"
      ]
     },
     "execution_count": 211,
     "metadata": {},
     "output_type": "execute_result"
    }
   ],
   "source": [
    "#Descriptive stats of the prep time metric\n",
    "df['prep_time_seconds'].describe()"
   ]
  },
  {
   "cell_type": "markdown",
   "id": "0e6f4b9e",
   "metadata": {},
   "source": [
    "**By comparing the median and mean values, we can already tell that the distribution will be a little bit skewed to the right.**\n",
    "\n",
    "**It is also noteworthy that the 3rd quartile and the maximum value are very far apart. This once again proves that the outliers will be located in the right area of the distribution.**"
   ]
  },
  {
   "cell_type": "code",
   "execution_count": 212,
   "id": "5ce0a776",
   "metadata": {},
   "outputs": [
    {
     "data": {
      "text/plain": [
       "<seaborn.axisgrid.FacetGrid at 0x7fc771a5ff10>"
      ]
     },
     "execution_count": 212,
     "metadata": {},
     "output_type": "execute_result"
    },
    {
     "data": {
      "image/png": "[encoded data removed]",
      "text/plain": [
       "<Figure size 360x360 with 1 Axes>"
      ]
     },
     "metadata": {
      "needs_background": "light"
     },
     "output_type": "display_data"
    }
   ],
   "source": [
    "#prep time distribution\n",
    "sns.displot(df['prep_time_seconds'],bins=60)"
   ]
  },
  {
   "cell_type": "markdown",
   "id": "12b5c311",
   "metadata": {},
   "source": [
    " **In addition, most of the data points seem to fall within the [0-4600] range. Is it reasonable to assume that any prep time over 4600 seconds is an outlier? Verification to follow!**"
   ]
  },
  {
   "cell_type": "code",
   "execution_count": 213,
   "id": "92b0c0d6",
   "metadata": {},
   "outputs": [
    {
     "name": "stdout",
     "output_type": "stream",
     "text": [
      "The lower bound using the IQR approach is:  -545.5\n",
      "The upper bound using the IQR approach is:  2290.5\n"
     ]
    }
   ],
   "source": [
    "#Outliers detection, first using the IQR approach\n",
    "\n",
    "Q1=np.quantile(df['prep_time_seconds'],0.25)\n",
    "Q3=np.quantile(df['prep_time_seconds'],0.75)\n",
    "IQR=Q3-Q1\n",
    "\n",
    "print('The lower bound using the IQR approach is: ',round(Q1-1.5*IQR,2))\n",
    "\n",
    "print('The upper bound using the IQR approach is: ',round(Q3+1.5*IQR,2))"
   ]
  },
  {
   "cell_type": "markdown",
   "id": "86d03cb8",
   "metadata": {},
   "source": [
    "**Interpretation of the lower and upper bound values:**\n",
    "- The lower bound is <0, which shouldn't be possible. All orders should take at least 0 seconds to be ready (already cooked and packed).\n",
    "- the upper bound is realistic given that 75% of orders take maximum 1227 seconds to be ready.\n",
    "\n",
    "**However it is possible that a specific type of food takes longer to be prepared.**"
   ]
  },
  {
   "cell_type": "code",
   "execution_count": 214,
   "id": "d04f113d",
   "metadata": {},
   "outputs": [
    {
     "data": {
      "text/html": [
       "<div>\n",
       "<style scoped>\n",
       "    .dataframe tbody tr th:only-of-type {\n",
       "        vertical-align: middle;\n",
       "    }\n",
       "\n",
       "    .dataframe tbody tr th {\n",
       "        vertical-align: top;\n",
       "    }\n",
       "\n",
       "    .dataframe thead th {\n",
       "        text-align: right;\n",
       "    }\n",
       "</style>\n",
       "<table border=\"1\" class=\"dataframe\">\n",
       "  <thead>\n",
       "    <tr style=\"text-align: right;\">\n",
       "      <th></th>\n",
       "      <th>type_of_food</th>\n",
       "      <th>prep_time_seconds</th>\n",
       "    </tr>\n",
       "  </thead>\n",
       "  <tbody>\n",
       "    <tr>\n",
       "      <th>0</th>\n",
       "      <td>juices</td>\n",
       "      <td>4121.015625</td>\n",
       "    </tr>\n",
       "    <tr>\n",
       "      <th>1</th>\n",
       "      <td>creperie</td>\n",
       "      <td>3312.200000</td>\n",
       "    </tr>\n",
       "    <tr>\n",
       "      <th>2</th>\n",
       "      <td>brazilian</td>\n",
       "      <td>2936.044944</td>\n",
       "    </tr>\n",
       "    <tr>\n",
       "      <th>3</th>\n",
       "      <td>bakery</td>\n",
       "      <td>2756.202899</td>\n",
       "    </tr>\n",
       "    <tr>\n",
       "      <th>4</th>\n",
       "      <td>soup</td>\n",
       "      <td>2627.666667</td>\n",
       "    </tr>\n",
       "    <tr>\n",
       "      <th>5</th>\n",
       "      <td>scandinavian</td>\n",
       "      <td>2490.100000</td>\n",
       "    </tr>\n",
       "    <tr>\n",
       "      <th>6</th>\n",
       "      <td>japanese peruvian</td>\n",
       "      <td>2485.000000</td>\n",
       "    </tr>\n",
       "    <tr>\n",
       "      <th>7</th>\n",
       "      <td>french lebanese</td>\n",
       "      <td>2439.000000</td>\n",
       "    </tr>\n",
       "    <tr>\n",
       "      <th>8</th>\n",
       "      <td>irish</td>\n",
       "      <td>2183.888889</td>\n",
       "    </tr>\n",
       "    <tr>\n",
       "      <th>9</th>\n",
       "      <td>malaysian</td>\n",
       "      <td>2157.200000</td>\n",
       "    </tr>\n",
       "    <tr>\n",
       "      <th>10</th>\n",
       "      <td>healthy</td>\n",
       "      <td>2118.435195</td>\n",
       "    </tr>\n",
       "    <tr>\n",
       "      <th>11</th>\n",
       "      <td>russian</td>\n",
       "      <td>2117.833333</td>\n",
       "    </tr>\n",
       "    <tr>\n",
       "      <th>12</th>\n",
       "      <td>deli</td>\n",
       "      <td>2086.600000</td>\n",
       "    </tr>\n",
       "    <tr>\n",
       "      <th>13</th>\n",
       "      <td>argentinian</td>\n",
       "      <td>1969.109325</td>\n",
       "    </tr>\n",
       "    <tr>\n",
       "      <th>14</th>\n",
       "      <td>peruvian</td>\n",
       "      <td>1955.297297</td>\n",
       "    </tr>\n",
       "    <tr>\n",
       "      <th>15</th>\n",
       "      <td>sweet treats</td>\n",
       "      <td>1759.705882</td>\n",
       "    </tr>\n",
       "    <tr>\n",
       "      <th>16</th>\n",
       "      <td>greek</td>\n",
       "      <td>1702.113772</td>\n",
       "    </tr>\n",
       "    <tr>\n",
       "      <th>17</th>\n",
       "      <td>indonesian</td>\n",
       "      <td>1681.964286</td>\n",
       "    </tr>\n",
       "    <tr>\n",
       "      <th>18</th>\n",
       "      <td>seafood</td>\n",
       "      <td>1649.362637</td>\n",
       "    </tr>\n",
       "    <tr>\n",
       "      <th>19</th>\n",
       "      <td>pan asian</td>\n",
       "      <td>1644.738095</td>\n",
       "    </tr>\n",
       "    <tr>\n",
       "      <th>20</th>\n",
       "      <td>diner</td>\n",
       "      <td>1630.375000</td>\n",
       "    </tr>\n",
       "    <tr>\n",
       "      <th>21</th>\n",
       "      <td>thaï / brunch</td>\n",
       "      <td>1628.666667</td>\n",
       "    </tr>\n",
       "    <tr>\n",
       "      <th>22</th>\n",
       "      <td>georgian</td>\n",
       "      <td>1608.789474</td>\n",
       "    </tr>\n",
       "    <tr>\n",
       "      <th>23</th>\n",
       "      <td>south indian</td>\n",
       "      <td>1565.267857</td>\n",
       "    </tr>\n",
       "    <tr>\n",
       "      <th>24</th>\n",
       "      <td>persian</td>\n",
       "      <td>1541.351852</td>\n",
       "    </tr>\n",
       "    <tr>\n",
       "      <th>25</th>\n",
       "      <td>austrian</td>\n",
       "      <td>1523.571429</td>\n",
       "    </tr>\n",
       "    <tr>\n",
       "      <th>26</th>\n",
       "      <td>lebanese moroccan</td>\n",
       "      <td>1521.153846</td>\n",
       "    </tr>\n",
       "    <tr>\n",
       "      <th>27</th>\n",
       "      <td>lebanese</td>\n",
       "      <td>1498.839802</td>\n",
       "    </tr>\n",
       "    <tr>\n",
       "      <th>28</th>\n",
       "      <td>middle eastern</td>\n",
       "      <td>1489.444444</td>\n",
       "    </tr>\n",
       "    <tr>\n",
       "      <th>29</th>\n",
       "      <td>indian</td>\n",
       "      <td>1429.531559</td>\n",
       "    </tr>\n",
       "    <tr>\n",
       "      <th>30</th>\n",
       "      <td>fish and chips</td>\n",
       "      <td>1424.017730</td>\n",
       "    </tr>\n",
       "    <tr>\n",
       "      <th>31</th>\n",
       "      <td>vegan</td>\n",
       "      <td>1419.709677</td>\n",
       "    </tr>\n",
       "    <tr>\n",
       "      <th>32</th>\n",
       "      <td>creole</td>\n",
       "      <td>1415.000000</td>\n",
       "    </tr>\n",
       "    <tr>\n",
       "      <th>33</th>\n",
       "      <td>north african</td>\n",
       "      <td>1372.800000</td>\n",
       "    </tr>\n",
       "    <tr>\n",
       "      <th>34</th>\n",
       "      <td>thai</td>\n",
       "      <td>1353.868558</td>\n",
       "    </tr>\n",
       "    <tr>\n",
       "      <th>35</th>\n",
       "      <td>japanese</td>\n",
       "      <td>1348.476914</td>\n",
       "    </tr>\n",
       "    <tr>\n",
       "      <th>36</th>\n",
       "      <td>pizza</td>\n",
       "      <td>1344.906948</td>\n",
       "    </tr>\n",
       "    <tr>\n",
       "      <th>37</th>\n",
       "      <td>mediterranean</td>\n",
       "      <td>1338.951456</td>\n",
       "    </tr>\n",
       "    <tr>\n",
       "      <th>38</th>\n",
       "      <td>mexican</td>\n",
       "      <td>1319.399651</td>\n",
       "    </tr>\n",
       "    <tr>\n",
       "      <th>39</th>\n",
       "      <td>italian</td>\n",
       "      <td>1293.210548</td>\n",
       "    </tr>\n",
       "    <tr>\n",
       "      <th>40</th>\n",
       "      <td>nepalese</td>\n",
       "      <td>1262.269231</td>\n",
       "    </tr>\n",
       "    <tr>\n",
       "      <th>41</th>\n",
       "      <td>bbq</td>\n",
       "      <td>1252.753304</td>\n",
       "    </tr>\n",
       "    <tr>\n",
       "      <th>42</th>\n",
       "      <td>rotisserie</td>\n",
       "      <td>1246.309091</td>\n",
       "    </tr>\n",
       "    <tr>\n",
       "      <th>43</th>\n",
       "      <td>spanish</td>\n",
       "      <td>1245.000000</td>\n",
       "    </tr>\n",
       "  </tbody>\n",
       "</table>\n",
       "</div>"
      ],
      "text/plain": [
       "         type_of_food  prep_time_seconds\n",
       "0              juices        4121.015625\n",
       "1            creperie        3312.200000\n",
       "2           brazilian        2936.044944\n",
       "3              bakery        2756.202899\n",
       "4                soup        2627.666667\n",
       "5        scandinavian        2490.100000\n",
       "6   japanese peruvian        2485.000000\n",
       "7     french lebanese        2439.000000\n",
       "8               irish        2183.888889\n",
       "9           malaysian        2157.200000\n",
       "10            healthy        2118.435195\n",
       "11            russian        2117.833333\n",
       "12               deli        2086.600000\n",
       "13        argentinian        1969.109325\n",
       "14           peruvian        1955.297297\n",
       "15       sweet treats        1759.705882\n",
       "16              greek        1702.113772\n",
       "17         indonesian        1681.964286\n",
       "18            seafood        1649.362637\n",
       "19          pan asian        1644.738095\n",
       "20              diner        1630.375000\n",
       "21      thaï / brunch        1628.666667\n",
       "22           georgian        1608.789474\n",
       "23       south indian        1565.267857\n",
       "24            persian        1541.351852\n",
       "25           austrian        1523.571429\n",
       "26  lebanese moroccan        1521.153846\n",
       "27           lebanese        1498.839802\n",
       "28     middle eastern        1489.444444\n",
       "29             indian        1429.531559\n",
       "30     fish and chips        1424.017730\n",
       "31              vegan        1419.709677\n",
       "32             creole        1415.000000\n",
       "33      north african        1372.800000\n",
       "34               thai        1353.868558\n",
       "35           japanese        1348.476914\n",
       "36              pizza        1344.906948\n",
       "37      mediterranean        1338.951456\n",
       "38            mexican        1319.399651\n",
       "39            italian        1293.210548\n",
       "40           nepalese        1262.269231\n",
       "41                bbq        1252.753304\n",
       "42         rotisserie        1246.309091\n",
       "43            spanish        1245.000000"
      ]
     },
     "execution_count": 214,
     "metadata": {},
     "output_type": "execute_result"
    }
   ],
   "source": [
    "#Median time to prepare orders seggregated by type of food\n",
    "df_temp=df.groupby(['type_of_food'])['prep_time_seconds'].mean().sort_values(ascending=False).reset_index()\n",
    "df_temp_over_1227=df_temp[df_temp['prep_time_seconds']>1227]\n",
    "df_temp_over_1227.head(100)\n"
   ]
  },
  {
   "cell_type": "markdown",
   "id": "01323548",
   "metadata": {},
   "source": [
    "**It is evident that if we apply the IQR approach to the data frame as a whole, we would be trimming a large number of food types simply because they take longer to prepare.**\n",
    "\n",
    "**Instead, we will attempt to apply the IQR approach to each subset of orders associated with a particular type of food. (In the Order preparation time prediction section)**"
   ]
  },
  {
   "cell_type": "markdown",
   "id": "8e44c193",
   "metadata": {},
   "source": [
    "#### 1.2.2 Order value (order_value_gbp)\n",
    "- This column is a Float and represents the value of the order in GBP"
   ]
  },
  {
   "cell_type": "code",
   "execution_count": 215,
   "id": "6d668597",
   "metadata": {},
   "outputs": [
    {
     "data": {
      "text/plain": [
       "count    32394.000000\n",
       "mean        26.547303\n",
       "std         19.263851\n",
       "min          0.500000\n",
       "25%         16.700000\n",
       "50%         21.400000\n",
       "75%         30.250000\n",
       "max        711.000000\n",
       "Name: order_value_gbp, dtype: float64"
      ]
     },
     "execution_count": 215,
     "metadata": {},
     "output_type": "execute_result"
    }
   ],
   "source": [
    "#Descriptive stats of the order value metric\n",
    "df['order_value_gbp'].describe()"
   ]
  },
  {
   "cell_type": "markdown",
   "id": "52869eff",
   "metadata": {},
   "source": [
    "**By comparing the median and mean values, we can already tell that the distribution will be a little bit skewed to the right.**\n",
    "\n",
    "**It is also noteworthy that the 3rd quartile and the maximum value are very far apart. This once again proves that the outliers will be located in the right area of the distribution.**\n"
   ]
  },
  {
   "cell_type": "code",
   "execution_count": 216,
   "id": "fde5397f",
   "metadata": {},
   "outputs": [
    {
     "data": {
      "text/plain": [
       "<seaborn.axisgrid.FacetGrid at 0x7fc7ec41da60>"
      ]
     },
     "execution_count": 216,
     "metadata": {},
     "output_type": "execute_result"
    },
    {
     "data": {
      "image/png": "[encoded data removed]",
      "text/plain": [
       "<Figure size 360x360 with 1 Axes>"
      ]
     },
     "metadata": {
      "needs_background": "light"
     },
     "output_type": "display_data"
    }
   ],
   "source": [
    "#order value distribution\n",
    "sns.displot(df['order_value_gbp'])"
   ]
  },
  {
   "cell_type": "markdown",
   "id": "ca156985",
   "metadata": {},
   "source": [
    "#### 1.2.3 Number of items ordered (number_of_items)\n",
    "- This column is an Int and represents the number of items included in each order."
   ]
  },
  {
   "cell_type": "code",
   "execution_count": 217,
   "id": "86614fb9",
   "metadata": {
    "scrolled": true
   },
   "outputs": [
    {
     "data": {
      "text/plain": [
       "count    32394.000000\n",
       "mean         4.025715\n",
       "std          2.392063\n",
       "min          1.000000\n",
       "25%          3.000000\n",
       "50%          3.000000\n",
       "75%          5.000000\n",
       "max         38.000000\n",
       "Name: number_of_items, dtype: float64"
      ]
     },
     "execution_count": 217,
     "metadata": {},
     "output_type": "execute_result"
    }
   ],
   "source": [
    "#Descriptive stats of the num of items\n",
    "df['number_of_items'].describe()"
   ]
  },
  {
   "cell_type": "code",
   "execution_count": 218,
   "id": "44ca965b",
   "metadata": {},
   "outputs": [
    {
     "data": {
      "text/plain": [
       "<seaborn.axisgrid.FacetGrid at 0x7fc7869114f0>"
      ]
     },
     "execution_count": 218,
     "metadata": {},
     "output_type": "execute_result"
    },
    {
     "data": {
      "image/png": "[encoded data removed]",
      "text/plain": [
       "<Figure size 360x360 with 1 Axes>"
      ]
     },
     "metadata": {
      "needs_background": "light"
     },
     "output_type": "display_data"
    }
   ],
   "source": [
    "#order value distribution\n",
    "sns.displot(df['number_of_items'])"
   ]
  },
  {
   "cell_type": "markdown",
   "id": "0cb16169",
   "metadata": {},
   "source": []
  },
  {
   "cell_type": "markdown",
   "id": "a46065f9",
   "metadata": {},
   "source": [
    "# <font color='green'>III - Explanatory Data Analysis</font>\n",
    "\n",
    "**In this second section of the analysis, we will be focusing on understanding the orders trends and identifying any potential patterns. Some of the questions that we will be answering are:**\n",
    "\n",
    "\n",
    "<font color='blue'>\n",
    "   \n",
    "1. Is there a particular day of the week that receives the most orders?\n",
    "    \n",
    "2. What type of food is most frequently ordered?\n",
    "    \n",
    "3. Location analysis (location (country and city) with the most orders?)\n",
    "    \n",
    "4. Are there any other obvious correlations in our dataframe?"
   ]
  },
  {
   "cell_type": "markdown",
   "id": "0d469a2a",
   "metadata": {},
   "source": [
    "## <font color='brown'>1. Is there a particular day of the week that receives the most orders?\n",
    "\n",
    "**Before answering the question, let's look at the monthly trend of the orders.**"
   ]
  },
  {
   "cell_type": "code",
   "execution_count": 219,
   "id": "bec235e9",
   "metadata": {},
   "outputs": [
    {
     "data": {
      "image/png": "[encoded data removed]",
      "text/plain": [
       "<Figure size 1296x432 with 1 Axes>"
      ]
     },
     "metadata": {
      "needs_background": "light"
     },
     "output_type": "display_data"
    }
   ],
   "source": [
    "#Orders trend from 2015-06-01 to 2015-07-01\n",
    "byDate=df.groupby(pd.to_datetime(df['order_acknowledged_at']).apply(lambda time: time.date()))['city'].count()\n",
    "\n",
    "plt.figure(figsize=(18,6))\n",
    "byDate.plot()\n",
    "plt.show()"
   ]
  },
  {
   "cell_type": "markdown",
   "id": "4c8d9d23",
   "metadata": {},
   "source": [
    "**We can definetely see a weekly pattern. Let's investigate the peaks.**\n",
    "\n",
    "**Assumption: the peaks hit on weekends (Sat or/and Sun)**"
   ]
  },
  {
   "cell_type": "code",
   "execution_count": 220,
   "id": "05a5331b",
   "metadata": {},
   "outputs": [
    {
     "data": {
      "text/plain": [
       "dayofweek\n",
       "Fri    1222.25\n",
       "Mon     927.80\n",
       "Sat    1232.75\n",
       "Sun    1374.00\n",
       "Thu     952.50\n",
       "Tue     938.40\n",
       "Wed     787.40\n",
       "Name: city, dtype: float64"
      ]
     },
     "execution_count": 220,
     "metadata": {},
     "output_type": "execute_result"
    }
   ],
   "source": [
    "#Avg daily orders received seggregated by day of the week\n",
    "\n",
    "dmap = {0:'Mon',1:'Tue',2:'Wed',3:'Thu',4:'Fri',5:'Sat',6:'Sun'}\n",
    "\n",
    "days_orders=pd.DataFrame(df.groupby(pd.to_datetime(df['order_acknowledged_at']).apply(lambda time: time.date()))['city'].count()).reset_index()\n",
    "days_orders['dayofweek']= pd.to_datetime(days_orders['order_acknowledged_at'],utc=True).apply(lambda x:x.dayofweek).map(dmap)\n",
    "\n",
    "days_orders.groupby(days_orders['dayofweek'])['city'].mean()"
   ]
  },
  {
   "cell_type": "markdown",
   "id": "07c9a434",
   "metadata": {},
   "source": [
    "**<font color='green'>We can conclude that in June 2015, -on average- 1375 orders were made every Sunday (highest) and 788 were made every Wednesday (lowest).**"
   ]
  },
  {
   "cell_type": "markdown",
   "id": "18f78145",
   "metadata": {},
   "source": [
    "## <font color='brown'>2. What type of food is most frequently ordered?\n",
    "\n",
    "**We have already established that there are 83 food types.**\n",
    "    \n",
    "**Using the PARETO method, let's verify if 80% of orders will link to only 20% of food types**\n",
    "    \n"
   ]
  },
  {
   "cell_type": "code",
   "execution_count": 221,
   "id": "ade20498",
   "metadata": {},
   "outputs": [
    {
     "data": {
      "image/png": "[encoded data removed]",
      "text/plain": [
       "<Figure size 936x720 with 2 Axes>"
      ]
     },
     "metadata": {},
     "output_type": "display_data"
    }
   ],
   "source": [
    "# Creating a temp df to measure the cumulative sum of orders seggregated by food type\n",
    "\n",
    "food_df=pd.DataFrame(df['type_of_food'].value_counts()).reset_index()\n",
    "food_df.rename(columns={'index':'type_of_food','type_of_food':'num_orders'},inplace=True)\n",
    "food_df['cum_sum']=round(100*food_df['num_orders'].cumsum()/food_df['num_orders'].sum())\n",
    "\n",
    "#Pareto Chart\n",
    "\n",
    "fig, ax = plt.subplots(figsize=(13, 10))\n",
    "ax.bar(np.arange(len(food_df[\"type_of_food\"])), food_df[\"num_orders\"], color=\"C0\")\n",
    "ax2 = ax.twinx()\n",
    "ax2.plot(np.arange(len(food_df[\"type_of_food\"])), food_df[\"cum_sum\"], color=\"C1\", marker=\"D\", ms=3)\n",
    "ax2.yaxis.set_major_formatter(PercentFormatter())\n",
    "\n",
    "ax2.axhline(y=80.0, color='r', linestyle='-')\n",
    "\n",
    "ax.tick_params(axis=\"y\", colors=\"C0\")\n",
    "ax2.tick_params(axis=\"y\", colors=\"C1\")\n",
    "\n",
    "ax2.axvline(x=food_df.index[food_df['cum_sum']==80.0][0], color='r', linestyle='-')\n",
    "ax2.text(food_df.index[food_df['cum_sum']==80.0][0],7,food_df.index[food_df['cum_sum']==80.0][0],color='red')\n",
    "\n",
    "#Adding a chart title and axes labels\n",
    "ax.set_xlabel('Type of Food')\n",
    "ax.set_ylabel('Number of Orders', color='C0')\n",
    "ax2.set_ylabel('Cumulative Sum', color='C1')\n",
    "plt.title('Pareto Analysis')\n",
    "\n",
    "plt.show()"
   ]
  },
  {
   "cell_type": "markdown",
   "id": "2d706110",
   "metadata": {},
   "source": [
    "**We can conclude that the same 15 food types (18% of total food types) are frequently (80% of the time) ordered.**"
   ]
  },
  {
   "cell_type": "code",
   "execution_count": 222,
   "id": "a85b2183",
   "metadata": {},
   "outputs": [
    {
     "data": {
      "text/html": [
       "<div>\n",
       "<style scoped>\n",
       "    .dataframe tbody tr th:only-of-type {\n",
       "        vertical-align: middle;\n",
       "    }\n",
       "\n",
       "    .dataframe tbody tr th {\n",
       "        vertical-align: top;\n",
       "    }\n",
       "\n",
       "    .dataframe thead th {\n",
       "        text-align: right;\n",
       "    }\n",
       "</style>\n",
       "<table border=\"1\" class=\"dataframe\">\n",
       "  <thead>\n",
       "    <tr style=\"text-align: right;\">\n",
       "      <th></th>\n",
       "      <th>type_of_food</th>\n",
       "      <th>num_orders</th>\n",
       "      <th>cum_sum</th>\n",
       "    </tr>\n",
       "  </thead>\n",
       "  <tbody>\n",
       "    <tr>\n",
       "      <th>0</th>\n",
       "      <td>italian</td>\n",
       "      <td>4759</td>\n",
       "      <td>15.0</td>\n",
       "    </tr>\n",
       "    <tr>\n",
       "      <th>1</th>\n",
       "      <td>burgers</td>\n",
       "      <td>3916</td>\n",
       "      <td>27.0</td>\n",
       "    </tr>\n",
       "    <tr>\n",
       "      <th>2</th>\n",
       "      <td>thai</td>\n",
       "      <td>2891</td>\n",
       "      <td>36.0</td>\n",
       "    </tr>\n",
       "    <tr>\n",
       "      <th>3</th>\n",
       "      <td>american</td>\n",
       "      <td>2395</td>\n",
       "      <td>43.0</td>\n",
       "    </tr>\n",
       "    <tr>\n",
       "      <th>4</th>\n",
       "      <td>japanese</td>\n",
       "      <td>1776</td>\n",
       "      <td>49.0</td>\n",
       "    </tr>\n",
       "    <tr>\n",
       "      <th>5</th>\n",
       "      <td>lebanese</td>\n",
       "      <td>1417</td>\n",
       "      <td>53.0</td>\n",
       "    </tr>\n",
       "    <tr>\n",
       "      <th>6</th>\n",
       "      <td>indian</td>\n",
       "      <td>1315</td>\n",
       "      <td>57.0</td>\n",
       "    </tr>\n",
       "    <tr>\n",
       "      <th>7</th>\n",
       "      <td>chicken</td>\n",
       "      <td>1268</td>\n",
       "      <td>61.0</td>\n",
       "    </tr>\n",
       "    <tr>\n",
       "      <th>8</th>\n",
       "      <td>chinese</td>\n",
       "      <td>1186</td>\n",
       "      <td>65.0</td>\n",
       "    </tr>\n",
       "    <tr>\n",
       "      <th>9</th>\n",
       "      <td>vietnamese</td>\n",
       "      <td>1141</td>\n",
       "      <td>68.0</td>\n",
       "    </tr>\n",
       "    <tr>\n",
       "      <th>10</th>\n",
       "      <td>healthy</td>\n",
       "      <td>949</td>\n",
       "      <td>71.0</td>\n",
       "    </tr>\n",
       "    <tr>\n",
       "      <th>11</th>\n",
       "      <td>british</td>\n",
       "      <td>829</td>\n",
       "      <td>74.0</td>\n",
       "    </tr>\n",
       "    <tr>\n",
       "      <th>12</th>\n",
       "      <td>pizza</td>\n",
       "      <td>806</td>\n",
       "      <td>76.0</td>\n",
       "    </tr>\n",
       "    <tr>\n",
       "      <th>13</th>\n",
       "      <td>pan asian</td>\n",
       "      <td>756</td>\n",
       "      <td>78.0</td>\n",
       "    </tr>\n",
       "    <tr>\n",
       "      <th>14</th>\n",
       "      <td>burritos</td>\n",
       "      <td>608</td>\n",
       "      <td>80.0</td>\n",
       "    </tr>\n",
       "  </tbody>\n",
       "</table>\n",
       "</div>"
      ],
      "text/plain": [
       "   type_of_food  num_orders  cum_sum\n",
       "0       italian        4759     15.0\n",
       "1       burgers        3916     27.0\n",
       "2          thai        2891     36.0\n",
       "3      american        2395     43.0\n",
       "4      japanese        1776     49.0\n",
       "5      lebanese        1417     53.0\n",
       "6        indian        1315     57.0\n",
       "7       chicken        1268     61.0\n",
       "8       chinese        1186     65.0\n",
       "9    vietnamese        1141     68.0\n",
       "10      healthy         949     71.0\n",
       "11      british         829     74.0\n",
       "12        pizza         806     76.0\n",
       "13    pan asian         756     78.0\n",
       "14     burritos         608     80.0"
      ]
     },
     "execution_count": 222,
     "metadata": {},
     "output_type": "execute_result"
    }
   ],
   "source": [
    "#Showing the most frequently ordered food types \n",
    "food_df.head(15)"
   ]
  },
  {
   "cell_type": "markdown",
   "id": "eac79887",
   "metadata": {},
   "source": [
    "## <font color='brown'>3. Location analysis (location (country and city) with the most orders?)"
   ]
  },
  {
   "cell_type": "code",
   "execution_count": 223,
   "id": "e393f7c7",
   "metadata": {},
   "outputs": [
    {
     "data": {
      "text/plain": [
       "country  city       \n",
       "France   Paris           2032\n",
       "Germany  Berlin           296\n",
       "         München           24\n",
       "Ireland  Dublin           353\n",
       "UK       London         25481\n",
       "         Manchester       964\n",
       "         Brighton         652\n",
       "         Oxford           546\n",
       "         Edinburgh        440\n",
       "         Birmingham       278\n",
       "         Leeds            226\n",
       "         Nottingham       226\n",
       "         Cambridge        185\n",
       "         Glasgow          176\n",
       "         Liverpool        156\n",
       "         Reading          127\n",
       "         Guildford        115\n",
       "         Bristol           89\n",
       "         Cheltenham        11\n",
       "         Leicester         10\n",
       "         Cardiff            5\n",
       "         Southampton        2\n",
       "Name: city, dtype: int64"
      ]
     },
     "execution_count": 223,
     "metadata": {},
     "output_type": "execute_result"
    }
   ],
   "source": [
    "# Number of orders by city\n",
    "df.groupby(df['country'])['city'].value_counts()"
   ]
  },
  {
   "cell_type": "code",
   "execution_count": 224,
   "id": "fc17cd97",
   "metadata": {},
   "outputs": [
    {
     "data": {
      "text/plain": [
       "London         0.786596\n",
       "Paris          0.062728\n",
       "Manchester     0.029759\n",
       "Brighton       0.020127\n",
       "Oxford         0.016855\n",
       "Edinburgh      0.013583\n",
       "Dublin         0.010897\n",
       "Berlin         0.009137\n",
       "Birmingham     0.008582\n",
       "Leeds          0.006977\n",
       "Nottingham     0.006977\n",
       "Cambridge      0.005711\n",
       "Glasgow        0.005433\n",
       "Liverpool      0.004816\n",
       "Reading        0.003920\n",
       "Guildford      0.003550\n",
       "Bristol        0.002747\n",
       "München        0.000741\n",
       "Cheltenham     0.000340\n",
       "Leicester      0.000309\n",
       "Cardiff        0.000154\n",
       "Southampton    0.000062\n",
       "Name: city, dtype: float64"
      ]
     },
     "execution_count": 224,
     "metadata": {},
     "output_type": "execute_result"
    }
   ],
   "source": [
    "# Number of orders by city\n",
    "df['city'].value_counts(normalize=True)"
   ]
  },
  {
   "cell_type": "markdown",
   "id": "f6db68cb",
   "metadata": {},
   "source": [
    "**The company is operating in 22 different cities. 18 of them are located in the UK.\n",
    "London has received 78% of the total orders**"
   ]
  },
  {
   "cell_type": "markdown",
   "id": "44328ac1",
   "metadata": {},
   "source": [
    "## <font color='brown'>4. Are there any other obvious correlations in our dataframe?"
   ]
  },
  {
   "cell_type": "code",
   "execution_count": 225,
   "id": "c0646503",
   "metadata": {},
   "outputs": [
    {
     "data": {
      "text/plain": [
       "<seaborn.axisgrid.PairGrid at 0x7fc774bd9400>"
      ]
     },
     "execution_count": 225,
     "metadata": {},
     "output_type": "execute_result"
    },
    {
     "data": {
      "image/png": "[encoded data removed]",
      "text/plain": [
       "<Figure size 720x720 with 20 Axes>"
      ]
     },
     "metadata": {
      "needs_background": "light"
     },
     "output_type": "display_data"
    }
   ],
   "source": [
    "#Understand the dataset distribution and correlation\n",
    "sns.pairplot(df)"
   ]
  },
  {
   "cell_type": "code",
   "execution_count": 226,
   "id": "41231cb4",
   "metadata": {},
   "outputs": [
    {
     "data": {
      "text/html": [
       "<div>\n",
       "<style scoped>\n",
       "    .dataframe tbody tr th:only-of-type {\n",
       "        vertical-align: middle;\n",
       "    }\n",
       "\n",
       "    .dataframe tbody tr th {\n",
       "        vertical-align: top;\n",
       "    }\n",
       "\n",
       "    .dataframe thead th {\n",
       "        text-align: right;\n",
       "    }\n",
       "</style>\n",
       "<table border=\"1\" class=\"dataframe\">\n",
       "  <thead>\n",
       "    <tr style=\"text-align: right;\">\n",
       "      <th></th>\n",
       "      <th>order_value_gbp</th>\n",
       "      <th>restaurant_id</th>\n",
       "      <th>number_of_items</th>\n",
       "      <th>prep_time_seconds</th>\n",
       "    </tr>\n",
       "  </thead>\n",
       "  <tbody>\n",
       "    <tr>\n",
       "      <th>order_value_gbp</th>\n",
       "      <td>1.000000</td>\n",
       "      <td>-0.056161</td>\n",
       "      <td>0.537032</td>\n",
       "      <td>0.272160</td>\n",
       "    </tr>\n",
       "    <tr>\n",
       "      <th>restaurant_id</th>\n",
       "      <td>-0.056161</td>\n",
       "      <td>1.000000</td>\n",
       "      <td>-0.043202</td>\n",
       "      <td>0.009657</td>\n",
       "    </tr>\n",
       "    <tr>\n",
       "      <th>number_of_items</th>\n",
       "      <td>0.537032</td>\n",
       "      <td>-0.043202</td>\n",
       "      <td>1.000000</td>\n",
       "      <td>0.091153</td>\n",
       "    </tr>\n",
       "    <tr>\n",
       "      <th>prep_time_seconds</th>\n",
       "      <td>0.272160</td>\n",
       "      <td>0.009657</td>\n",
       "      <td>0.091153</td>\n",
       "      <td>1.000000</td>\n",
       "    </tr>\n",
       "  </tbody>\n",
       "</table>\n",
       "</div>"
      ],
      "text/plain": [
       "                   order_value_gbp  restaurant_id  number_of_items  \\\n",
       "order_value_gbp           1.000000      -0.056161         0.537032   \n",
       "restaurant_id            -0.056161       1.000000        -0.043202   \n",
       "number_of_items           0.537032      -0.043202         1.000000   \n",
       "prep_time_seconds         0.272160       0.009657         0.091153   \n",
       "\n",
       "                   prep_time_seconds  \n",
       "order_value_gbp             0.272160  \n",
       "restaurant_id               0.009657  \n",
       "number_of_items             0.091153  \n",
       "prep_time_seconds           1.000000  "
      ]
     },
     "execution_count": 226,
     "metadata": {},
     "output_type": "execute_result"
    }
   ],
   "source": [
    "#Quantifying the correlations\n",
    "df.corr()"
   ]
  },
  {
   "cell_type": "markdown",
   "id": "fc293168",
   "metadata": {},
   "source": [
    "**The most obvious correlation is the one between number of items ordered and the order value.**\n",
    "\n",
    "**It is important to note that this will have an impact on which model will be used to estimate the predicted prep time later.**"
   ]
  },
  {
   "cell_type": "markdown",
   "id": "0e838135",
   "metadata": {},
   "source": [
    "# <font color='green'>IV - The Order Preparation Time Prediction</font>\n",
    "\n",
    "**In this last section of the analysis, we will be focusing on the prep time metric.**\n"
   ]
  },
  {
   "cell_type": "markdown",
   "id": "41e1e2fa",
   "metadata": {},
   "source": [
    "## <font color='brown'>1. Outliers detection\n",
    "\n",
    "**As mentioned earlier, we will be applying the IQR method of each food type subset.**"
   ]
  },
  {
   "cell_type": "code",
   "execution_count": 227,
   "id": "fc4f60d4",
   "metadata": {},
   "outputs": [
    {
     "data": {
      "text/plain": [
       "count    29864.000000\n",
       "mean       825.823801\n",
       "std        477.883625\n",
       "min          0.000000\n",
       "25%        493.000000\n",
       "50%        774.000000\n",
       "75%       1109.250000\n",
       "max       4005.000000\n",
       "Name: prep_time_seconds, dtype: float64"
      ]
     },
     "execution_count": 227,
     "metadata": {},
     "output_type": "execute_result"
    }
   ],
   "source": [
    "# Creating a temp dataset to measure Q1 and Q3 of each subset\n",
    "prep = df.groupby(\"type_of_food\")[\"prep_time_seconds\"].quantile([0.25, 0.75]).unstack(level=1)\n",
    "prep.rename(columns={0.25:'Q1',0.75:'Q3'},inplace=True)\n",
    "prep['IQR']=prep['Q3']-prep['Q1']\n",
    "\n",
    "# Applying the IQR approach to each subset\n",
    "df2=df.loc[((prep.loc[df['type_of_food'],'Q1']-1.5*prep.loc[df['type_of_food'], 'IQR'] < df['prep_time_seconds'].values) & (df['prep_time_seconds'].values < prep.loc[df['type_of_food'], 'Q3']+1.5*prep.loc[df['type_of_food'], 'IQR'])).values]\n",
    "df2['prep_time_seconds'].describe()\n"
   ]
  },
  {
   "cell_type": "markdown",
   "id": "0908e12f",
   "metadata": {},
   "source": [
    "## <font color='brown'>2. Choice of independant variables\n",
    "\n",
    "**The main factors that will be taken in consideration in this prediction model are:**\n",
    "\n",
    "- The number of items ordered.\n",
    "- The order value\n",
    "- The food type\n",
    "- The restaurant"
   ]
  },
  {
   "cell_type": "code",
   "execution_count": 228,
   "id": "cf2d1afd",
   "metadata": {},
   "outputs": [],
   "source": [
    "#First, let's drop the unnecessary columns\n",
    "train_data=df2.drop(columns=['order_ready_at','order_acknowledged_at','country','city'])"
   ]
  },
  {
   "cell_type": "code",
   "execution_count": 229,
   "id": "1a48785c",
   "metadata": {},
   "outputs": [
    {
     "data": {
      "text/html": [
       "<div>\n",
       "<style scoped>\n",
       "    .dataframe tbody tr th:only-of-type {\n",
       "        vertical-align: middle;\n",
       "    }\n",
       "\n",
       "    .dataframe tbody tr th {\n",
       "        vertical-align: top;\n",
       "    }\n",
       "\n",
       "    .dataframe thead th {\n",
       "        text-align: right;\n",
       "    }\n",
       "</style>\n",
       "<table border=\"1\" class=\"dataframe\">\n",
       "  <thead>\n",
       "    <tr style=\"text-align: right;\">\n",
       "      <th></th>\n",
       "      <th>order_value_gbp</th>\n",
       "      <th>restaurant_id</th>\n",
       "      <th>number_of_items</th>\n",
       "      <th>prep_time_seconds</th>\n",
       "      <th>type_of_food</th>\n",
       "    </tr>\n",
       "  </thead>\n",
       "  <tbody>\n",
       "    <tr>\n",
       "      <th>1</th>\n",
       "      <td>24.00</td>\n",
       "      <td>647</td>\n",
       "      <td>8</td>\n",
       "      <td>603</td>\n",
       "      <td>13</td>\n",
       "    </tr>\n",
       "    <tr>\n",
       "      <th>2</th>\n",
       "      <td>15.25</td>\n",
       "      <td>647</td>\n",
       "      <td>3</td>\n",
       "      <td>443</td>\n",
       "      <td>13</td>\n",
       "    </tr>\n",
       "    <tr>\n",
       "      <th>3</th>\n",
       "      <td>28.05</td>\n",
       "      <td>647</td>\n",
       "      <td>8</td>\n",
       "      <td>669</td>\n",
       "      <td>13</td>\n",
       "    </tr>\n",
       "    <tr>\n",
       "      <th>5</th>\n",
       "      <td>18.20</td>\n",
       "      <td>134</td>\n",
       "      <td>3</td>\n",
       "      <td>1049</td>\n",
       "      <td>16</td>\n",
       "    </tr>\n",
       "    <tr>\n",
       "      <th>6</th>\n",
       "      <td>43.20</td>\n",
       "      <td>134</td>\n",
       "      <td>4</td>\n",
       "      <td>1468</td>\n",
       "      <td>16</td>\n",
       "    </tr>\n",
       "  </tbody>\n",
       "</table>\n",
       "</div>"
      ],
      "text/plain": [
       "   order_value_gbp  restaurant_id  number_of_items  prep_time_seconds  \\\n",
       "1            24.00            647                8                603   \n",
       "2            15.25            647                3                443   \n",
       "3            28.05            647                8                669   \n",
       "5            18.20            134                3               1049   \n",
       "6            43.20            134                4               1468   \n",
       "\n",
       "   type_of_food  \n",
       "1            13  \n",
       "2            13  \n",
       "3            13  \n",
       "5            16  \n",
       "6            16  "
      ]
     },
     "execution_count": 229,
     "metadata": {},
     "output_type": "execute_result"
    }
   ],
   "source": [
    "# In order to consider the categorical variables as features as well, we need transform them into numerical values.\n",
    "# using LabelEncoder\n",
    "\n",
    "from sklearn.preprocessing import LabelEncoder\n",
    "from sklearn.model_selection import train_test_split\n",
    "\n",
    "train_data['type_of_food']=LabelEncoder().fit_transform(train_data['type_of_food'])\n",
    "train_data['restaurant_id']=LabelEncoder().fit_transform(train_data['restaurant_id'])\n",
    "train_data.head()"
   ]
  },
  {
   "cell_type": "markdown",
   "id": "3d739540",
   "metadata": {},
   "source": [
    "## <font color='brown'>3. Choice of the ML model\n",
    "    \n",
    "**The choice of the ML model is highly dependant on how much the dependant variable (prep_time_seconds) and the independant varibales are corrolated.**"
   ]
  },
  {
   "cell_type": "code",
   "execution_count": 230,
   "id": "39ab1768",
   "metadata": {},
   "outputs": [
    {
     "data": {
      "text/html": [
       "<div>\n",
       "<style scoped>\n",
       "    .dataframe tbody tr th:only-of-type {\n",
       "        vertical-align: middle;\n",
       "    }\n",
       "\n",
       "    .dataframe tbody tr th {\n",
       "        vertical-align: top;\n",
       "    }\n",
       "\n",
       "    .dataframe thead th {\n",
       "        text-align: right;\n",
       "    }\n",
       "</style>\n",
       "<table border=\"1\" class=\"dataframe\">\n",
       "  <thead>\n",
       "    <tr style=\"text-align: right;\">\n",
       "      <th></th>\n",
       "      <th>order_value_gbp</th>\n",
       "      <th>restaurant_id</th>\n",
       "      <th>number_of_items</th>\n",
       "      <th>prep_time_seconds</th>\n",
       "      <th>type_of_food</th>\n",
       "    </tr>\n",
       "  </thead>\n",
       "  <tbody>\n",
       "    <tr>\n",
       "      <th>order_value_gbp</th>\n",
       "      <td>1.000000</td>\n",
       "      <td>-0.060650</td>\n",
       "      <td>0.527307</td>\n",
       "      <td>0.264801</td>\n",
       "      <td>0.066132</td>\n",
       "    </tr>\n",
       "    <tr>\n",
       "      <th>restaurant_id</th>\n",
       "      <td>-0.060650</td>\n",
       "      <td>1.000000</td>\n",
       "      <td>-0.038075</td>\n",
       "      <td>-0.087227</td>\n",
       "      <td>0.003667</td>\n",
       "    </tr>\n",
       "    <tr>\n",
       "      <th>number_of_items</th>\n",
       "      <td>0.527307</td>\n",
       "      <td>-0.038075</td>\n",
       "      <td>1.000000</td>\n",
       "      <td>0.190938</td>\n",
       "      <td>-0.112861</td>\n",
       "    </tr>\n",
       "    <tr>\n",
       "      <th>prep_time_seconds</th>\n",
       "      <td>0.264801</td>\n",
       "      <td>-0.087227</td>\n",
       "      <td>0.190938</td>\n",
       "      <td>1.000000</td>\n",
       "      <td>0.000968</td>\n",
       "    </tr>\n",
       "    <tr>\n",
       "      <th>type_of_food</th>\n",
       "      <td>0.066132</td>\n",
       "      <td>0.003667</td>\n",
       "      <td>-0.112861</td>\n",
       "      <td>0.000968</td>\n",
       "      <td>1.000000</td>\n",
       "    </tr>\n",
       "  </tbody>\n",
       "</table>\n",
       "</div>"
      ],
      "text/plain": [
       "                   order_value_gbp  restaurant_id  number_of_items  \\\n",
       "order_value_gbp           1.000000      -0.060650         0.527307   \n",
       "restaurant_id            -0.060650       1.000000        -0.038075   \n",
       "number_of_items           0.527307      -0.038075         1.000000   \n",
       "prep_time_seconds         0.264801      -0.087227         0.190938   \n",
       "type_of_food              0.066132       0.003667        -0.112861   \n",
       "\n",
       "                   prep_time_seconds  type_of_food  \n",
       "order_value_gbp             0.264801      0.066132  \n",
       "restaurant_id              -0.087227      0.003667  \n",
       "number_of_items             0.190938     -0.112861  \n",
       "prep_time_seconds           1.000000      0.000968  \n",
       "type_of_food                0.000968      1.000000  "
      ]
     },
     "execution_count": 230,
     "metadata": {},
     "output_type": "execute_result"
    }
   ],
   "source": [
    "#Exploring the correlations\n",
    "train_data.corr()"
   ]
  },
  {
   "cell_type": "code",
   "execution_count": 231,
   "id": "bfb591e9",
   "metadata": {},
   "outputs": [],
   "source": [
    "# train_test_split\n",
    "X=train_data.drop(['prep_time_seconds'],axis=1)\n",
    "y=train_data['prep_time_seconds']\n",
    "X_train,X_test,y_train,y_test=train_test_split(X,y,test_size=0.3,random_state=51)"
   ]
  },
  {
   "cell_type": "markdown",
   "id": "860511a2",
   "metadata": {},
   "source": [
    "**We could use multiple ML models to solve this problem, such as: random forest and quantile regression.**\n",
    "\n",
    "**My assumption would be that random forest will give us more accurate results (a lower error margin) since the data is not highly correlated.**"
   ]
  },
  {
   "cell_type": "markdown",
   "id": "4fbb340c",
   "metadata": {},
   "source": [
    "## <font color='brown'>4. Implementation\n",
    "    \n"
   ]
  },
  {
   "cell_type": "markdown",
   "id": "cc96877d",
   "metadata": {},
   "source": [
    "### <font color='purple'>4.1 Random Forest"
   ]
  },
  {
   "cell_type": "markdown",
   "id": "c933f2dc",
   "metadata": {},
   "source": [
    "Random forest is a type of supervised learning algorithm that solves both regression and classification problems using ensemble methods (bagging). During training, a multitude of decision trees are constructed and a mean/mode of prediction is calculated for each tree.\n",
    "\n",
    "Essentially, a random forest is a committee of uncorrelated models that outperform their individual constituents due to the wisdom of crowds.\n",
    "\n",
    "This is due to the fact that the trees protect each other from their own errors. An individual tree in a random forest does not interact with any other tree. By aggregating the results of many decision trees, a random forest is able to produce the most optimal result."
   ]
  },
  {
   "cell_type": "code",
   "execution_count": 232,
   "id": "80959f2c",
   "metadata": {},
   "outputs": [
    {
     "data": {
      "text/plain": [
       "RandomForestRegressor(max_depth=90, max_features=2, min_samples_split=12,\n",
       "                      n_estimators=200)"
      ]
     },
     "execution_count": 232,
     "metadata": {},
     "output_type": "execute_result"
    }
   ],
   "source": [
    "#Implementation\n",
    "from sklearn.ensemble import RandomForestRegressor\n",
    "from sklearn.metrics import mean_squared_error\n",
    "\n",
    "RFR=RandomForestRegressor(n_estimators=200,max_depth=90,max_features=2,min_samples_split=12)\n",
    "RFR.fit(X_train,y_train)"
   ]
  },
  {
   "cell_type": "code",
   "execution_count": 233,
   "id": "3f5278ee",
   "metadata": {},
   "outputs": [],
   "source": [
    "pred1=RFR.predict(X_test)"
   ]
  },
  {
   "cell_type": "code",
   "execution_count": 234,
   "id": "c0b5fd0b",
   "metadata": {},
   "outputs": [
    {
     "data": {
      "text/html": [
       "<div>\n",
       "<style scoped>\n",
       "    .dataframe tbody tr th:only-of-type {\n",
       "        vertical-align: middle;\n",
       "    }\n",
       "\n",
       "    .dataframe tbody tr th {\n",
       "        vertical-align: top;\n",
       "    }\n",
       "\n",
       "    .dataframe thead th {\n",
       "        text-align: right;\n",
       "    }\n",
       "</style>\n",
       "<table border=\"1\" class=\"dataframe\">\n",
       "  <thead>\n",
       "    <tr style=\"text-align: right;\">\n",
       "      <th></th>\n",
       "      <th>prep_time_actual</th>\n",
       "      <th>prep_time_predicted</th>\n",
       "      <th>diff</th>\n",
       "    </tr>\n",
       "  </thead>\n",
       "  <tbody>\n",
       "    <tr>\n",
       "      <th>11732</th>\n",
       "      <td>540</td>\n",
       "      <td>646</td>\n",
       "      <td>-106</td>\n",
       "    </tr>\n",
       "    <tr>\n",
       "      <th>1968</th>\n",
       "      <td>1304</td>\n",
       "      <td>1132</td>\n",
       "      <td>172</td>\n",
       "    </tr>\n",
       "    <tr>\n",
       "      <th>19562</th>\n",
       "      <td>429</td>\n",
       "      <td>763</td>\n",
       "      <td>-334</td>\n",
       "    </tr>\n",
       "    <tr>\n",
       "      <th>5869</th>\n",
       "      <td>1221</td>\n",
       "      <td>851</td>\n",
       "      <td>370</td>\n",
       "    </tr>\n",
       "    <tr>\n",
       "      <th>2151</th>\n",
       "      <td>543</td>\n",
       "      <td>1264</td>\n",
       "      <td>-721</td>\n",
       "    </tr>\n",
       "    <tr>\n",
       "      <th>...</th>\n",
       "      <td>...</td>\n",
       "      <td>...</td>\n",
       "      <td>...</td>\n",
       "    </tr>\n",
       "    <tr>\n",
       "      <th>19957</th>\n",
       "      <td>705</td>\n",
       "      <td>798</td>\n",
       "      <td>-93</td>\n",
       "    </tr>\n",
       "    <tr>\n",
       "      <th>13971</th>\n",
       "      <td>42</td>\n",
       "      <td>622</td>\n",
       "      <td>-580</td>\n",
       "    </tr>\n",
       "    <tr>\n",
       "      <th>17506</th>\n",
       "      <td>432</td>\n",
       "      <td>325</td>\n",
       "      <td>107</td>\n",
       "    </tr>\n",
       "    <tr>\n",
       "      <th>14192</th>\n",
       "      <td>1298</td>\n",
       "      <td>1164</td>\n",
       "      <td>134</td>\n",
       "    </tr>\n",
       "    <tr>\n",
       "      <th>6676</th>\n",
       "      <td>474</td>\n",
       "      <td>647</td>\n",
       "      <td>-173</td>\n",
       "    </tr>\n",
       "  </tbody>\n",
       "</table>\n",
       "<p>8960 rows × 3 columns</p>\n",
       "</div>"
      ],
      "text/plain": [
       "       prep_time_actual  prep_time_predicted  diff\n",
       "11732               540                  646  -106\n",
       "1968               1304                 1132   172\n",
       "19562               429                  763  -334\n",
       "5869               1221                  851   370\n",
       "2151                543                 1264  -721\n",
       "...                 ...                  ...   ...\n",
       "19957               705                  798   -93\n",
       "13971                42                  622  -580\n",
       "17506               432                  325   107\n",
       "14192              1298                 1164   134\n",
       "6676                474                  647  -173\n",
       "\n",
       "[8960 rows x 3 columns]"
      ]
     },
     "execution_count": 234,
     "metadata": {},
     "output_type": "execute_result"
    }
   ],
   "source": [
    "#Storing the result prediction in a dataframe\n",
    "result1=pd.DataFrame()\n",
    "result1['prep_time_actual']=y_test\n",
    "result1['prep_time_predicted']=pred1\n",
    "result1['prep_time_predicted'] = result1['prep_time_predicted'].astype('int')\n",
    "\n",
    "result1['diff']=result1['prep_time_actual']-result1['prep_time_predicted']\n",
    "\n",
    "\n",
    "result1"
   ]
  },
  {
   "cell_type": "code",
   "execution_count": 235,
   "id": "7d4ced6a",
   "metadata": {},
   "outputs": [
    {
     "name": "stdout",
     "output_type": "stream",
     "text": [
      "Root Mean Squared Error (RMSE): 416.9470783572894\n"
     ]
    }
   ],
   "source": [
    "print('Root Mean Squared Error (RMSE):', np.sqrt(mean_squared_error(y_test, pred1)))"
   ]
  },
  {
   "cell_type": "markdown",
   "id": "75b7836c",
   "metadata": {},
   "source": [
    "### <font color='purple'>4.2 Quantile Regession"
   ]
  },
  {
   "cell_type": "markdown",
   "id": "839d5465",
   "metadata": {},
   "source": [
    "In contrast to regular linear regression, which calculates the conditional mean of the target across different values of the features, quantile regression estimates the target's median.\n",
    "\n",
    "We will have an interval of preparation time for each order at the end."
   ]
  },
  {
   "cell_type": "code",
   "execution_count": 236,
   "id": "a1fb49cc",
   "metadata": {},
   "outputs": [
    {
     "data": {
      "text/html": [
       "<div>\n",
       "<style scoped>\n",
       "    .dataframe tbody tr th:only-of-type {\n",
       "        vertical-align: middle;\n",
       "    }\n",
       "\n",
       "    .dataframe tbody tr th {\n",
       "        vertical-align: top;\n",
       "    }\n",
       "\n",
       "    .dataframe thead th {\n",
       "        text-align: right;\n",
       "    }\n",
       "</style>\n",
       "<table border=\"1\" class=\"dataframe\">\n",
       "  <thead>\n",
       "    <tr style=\"text-align: right;\">\n",
       "      <th></th>\n",
       "      <th>prep_time_actual</th>\n",
       "      <th>predicted_0.05</th>\n",
       "      <th>predicted_0.25</th>\n",
       "      <th>predicted_0.5</th>\n",
       "      <th>predicted_0.75</th>\n",
       "      <th>predicted_0.95</th>\n",
       "    </tr>\n",
       "  </thead>\n",
       "  <tbody>\n",
       "    <tr>\n",
       "      <th>11732</th>\n",
       "      <td>540</td>\n",
       "      <td>213.392492</td>\n",
       "      <td>529.692455</td>\n",
       "      <td>757.675610</td>\n",
       "      <td>1064.496532</td>\n",
       "      <td>1760.636649</td>\n",
       "    </tr>\n",
       "    <tr>\n",
       "      <th>1968</th>\n",
       "      <td>1304</td>\n",
       "      <td>175.794932</td>\n",
       "      <td>490.852994</td>\n",
       "      <td>766.822679</td>\n",
       "      <td>1144.020785</td>\n",
       "      <td>1858.699568</td>\n",
       "    </tr>\n",
       "    <tr>\n",
       "      <th>19562</th>\n",
       "      <td>429</td>\n",
       "      <td>107.610118</td>\n",
       "      <td>377.998091</td>\n",
       "      <td>591.601915</td>\n",
       "      <td>874.748100</td>\n",
       "      <td>1472.765250</td>\n",
       "    </tr>\n",
       "    <tr>\n",
       "      <th>5869</th>\n",
       "      <td>1221</td>\n",
       "      <td>60.524421</td>\n",
       "      <td>197.226048</td>\n",
       "      <td>306.986521</td>\n",
       "      <td>443.540582</td>\n",
       "      <td>723.766237</td>\n",
       "    </tr>\n",
       "    <tr>\n",
       "      <th>2151</th>\n",
       "      <td>543</td>\n",
       "      <td>149.002291</td>\n",
       "      <td>425.021677</td>\n",
       "      <td>667.784914</td>\n",
       "      <td>999.725082</td>\n",
       "      <td>1627.070972</td>\n",
       "    </tr>\n",
       "    <tr>\n",
       "      <th>...</th>\n",
       "      <td>...</td>\n",
       "      <td>...</td>\n",
       "      <td>...</td>\n",
       "      <td>...</td>\n",
       "      <td>...</td>\n",
       "      <td>...</td>\n",
       "    </tr>\n",
       "    <tr>\n",
       "      <th>19957</th>\n",
       "      <td>705</td>\n",
       "      <td>86.026722</td>\n",
       "      <td>395.231106</td>\n",
       "      <td>658.076619</td>\n",
       "      <td>987.652615</td>\n",
       "      <td>1633.015807</td>\n",
       "    </tr>\n",
       "    <tr>\n",
       "      <th>13971</th>\n",
       "      <td>42</td>\n",
       "      <td>100.642354</td>\n",
       "      <td>440.468384</td>\n",
       "      <td>716.187560</td>\n",
       "      <td>1063.170750</td>\n",
       "      <td>1776.862041</td>\n",
       "    </tr>\n",
       "    <tr>\n",
       "      <th>17506</th>\n",
       "      <td>432</td>\n",
       "      <td>52.630539</td>\n",
       "      <td>222.621766</td>\n",
       "      <td>353.065579</td>\n",
       "      <td>528.007736</td>\n",
       "      <td>911.348760</td>\n",
       "    </tr>\n",
       "    <tr>\n",
       "      <th>14192</th>\n",
       "      <td>1298</td>\n",
       "      <td>144.176396</td>\n",
       "      <td>481.288525</td>\n",
       "      <td>745.420217</td>\n",
       "      <td>1072.933448</td>\n",
       "      <td>1763.626648</td>\n",
       "    </tr>\n",
       "    <tr>\n",
       "      <th>6676</th>\n",
       "      <td>474</td>\n",
       "      <td>66.751272</td>\n",
       "      <td>417.715282</td>\n",
       "      <td>691.386576</td>\n",
       "      <td>1018.866712</td>\n",
       "      <td>1724.273430</td>\n",
       "    </tr>\n",
       "  </tbody>\n",
       "</table>\n",
       "<p>8960 rows × 6 columns</p>\n",
       "</div>"
      ],
      "text/plain": [
       "       prep_time_actual  predicted_0.05  predicted_0.25  predicted_0.5  \\\n",
       "11732               540      213.392492      529.692455     757.675610   \n",
       "1968               1304      175.794932      490.852994     766.822679   \n",
       "19562               429      107.610118      377.998091     591.601915   \n",
       "5869               1221       60.524421      197.226048     306.986521   \n",
       "2151                543      149.002291      425.021677     667.784914   \n",
       "...                 ...             ...             ...            ...   \n",
       "19957               705       86.026722      395.231106     658.076619   \n",
       "13971                42      100.642354      440.468384     716.187560   \n",
       "17506               432       52.630539      222.621766     353.065579   \n",
       "14192              1298      144.176396      481.288525     745.420217   \n",
       "6676                474       66.751272      417.715282     691.386576   \n",
       "\n",
       "       predicted_0.75  predicted_0.95  \n",
       "11732     1064.496532     1760.636649  \n",
       "1968      1144.020785     1858.699568  \n",
       "19562      874.748100     1472.765250  \n",
       "5869       443.540582      723.766237  \n",
       "2151       999.725082     1627.070972  \n",
       "...               ...             ...  \n",
       "19957      987.652615     1633.015807  \n",
       "13971     1063.170750     1776.862041  \n",
       "17506      528.007736      911.348760  \n",
       "14192     1072.933448     1763.626648  \n",
       "6676      1018.866712     1724.273430  \n",
       "\n",
       "[8960 rows x 6 columns]"
      ]
     },
     "execution_count": 236,
     "metadata": {},
     "output_type": "execute_result"
    }
   ],
   "source": [
    "#Implementation\n",
    "import statsmodels.regression.quantile_regression as Q_reg\n",
    "import matplotlib.pyplot as plt\n",
    "\n",
    "quantiles = [0.05, 0.25, 0.50, 0.75 , 0.95]\n",
    "result2=pd.DataFrame()\n",
    "result2['prep_time_actual']=y_test\n",
    "for q in quantiles:\n",
    "    result2[f'predicted_{q}'] = Q_reg.QuantReg(y_train, X_train).fit(q=q).predict(X_test)\n",
    "    \n",
    "result2"
   ]
  },
  {
   "cell_type": "code",
   "execution_count": 237,
   "id": "b3bf23c3",
   "metadata": {},
   "outputs": [
    {
     "name": "stdout",
     "output_type": "stream",
     "text": [
      "Root Mean Squared Error (RMSE): 502.88857784256953\n"
     ]
    }
   ],
   "source": [
    "print('Root Mean Squared Error (RMSE):', np.sqrt(mean_squared_error(y_test, result2['predicted_0.5'])))"
   ]
  },
  {
   "cell_type": "markdown",
   "id": "d20885c4",
   "metadata": {},
   "source": [
    "### <font color='purple'>4.3 Summary"
   ]
  },
  {
   "cell_type": "markdown",
   "id": "babdcf17",
   "metadata": {},
   "source": [
    "To summarize, the Random Forest Regression model provides the closest estimation of prep time.\n",
    "\n",
    "The Quantile Regressor is the most reliable model for estimating preparation time by defining an interval of predicted quantiles for the target variableHowever,r, due to the high difference between Q1 and Q3, it is impossible to provide an accurate estimation of preparation time.\n",
    "\n",
    "In summary, the Random Forest Regressor is a well-performing algorithm since it is mostly dedicated to non-linear features."
   ]
  },
  {
   "cell_type": "markdown",
   "id": "9f219bb6",
   "metadata": {},
   "source": [
    "# <font color='green'>V-Next Steps</font>"
   ]
  },
  {
   "cell_type": "markdown",
   "id": "111210e4",
   "metadata": {},
   "source": [
    "Although the Random Forest model appears to be a good option in terms of reliability and accuracy, we should also consider the performance/cost ratio in our analysis to ensure the viability of the model and its efficiency of implementation."
   ]
  },
  {
   "cell_type": "markdown",
   "id": "9dd6c29d",
   "metadata": {},
   "source": [
    "# <font color='green'>VI - References</font>\n",
    "\n",
    "<a href=\"https://www.zomato.com/blog/predicting-fpt-optimally\">1 - Predicting your order’s Food Preparation Time - Jun 22, 2022</a>\n",
    "\n",
    "<a href=\"https://www.codespeedy.com/predict-food-delivery-time-using-machine-learning-in-python/\">2 - Predict food delivery time using machine learning in Python - Jun 18, 2020</a>\n",
    "\n",
    "<a href=\"https://towardsdatascience.com/a-quick-and-dirty-guide-to-random-forest-regression-52ca0af157f8\">3 - A Quick and Dirty Guide to Random Forest Regression </a>\n",
    "\n",
    "<a href=\"https://medium.com/dataman-in-ai/a-tutorial-on-quantile-regression-quantile-random-forests-and-quantile-gbm-d3c651af7516\">4 - A Tutorial on Quantile Regression, Quantile Random Forests, and Quantile GBM - Aug 9, 2020 </a>"
   ]
  }
 ],
 "metadata": {
  "kernelspec": {
   "display_name": "Python 3 (ipykernel)",
   "language": "python",
   "name": "python3"
  },
  "language_info": {
   "codemirror_mode": {
    "name": "ipython",
    "version": 3
   },
   "file_extension": ".py",
   "mimetype": "text/x-python",
   "name": "python",
   "nbconvert_exporter": "python",
   "pygments_lexer": "ipython3",
   "version": "3.9.7"
  },
  "toc": {
   "base_numbering": "1",
   "nav_menu": {},
   "number_sections": false,
   "sideBar": true,
   "skip_h1_title": false,
   "title_cell": "Table of Contents",
   "title_sidebar": "Table of Contents",
   "toc_cell": true,
   "toc_position": {
    "height": "calc(100% - 180px)",
    "left": "10px",
    "top": "150px",
    "width": "383.594px"
   },
   "toc_section_display": true,
   "toc_window_display": true
  }
 },
 "nbformat": 4,
 "nbformat_minor": 5
}
